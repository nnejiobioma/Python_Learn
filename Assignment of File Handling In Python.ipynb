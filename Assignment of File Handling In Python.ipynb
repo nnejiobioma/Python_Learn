{
 "cells": [
  {
   "cell_type": "code",
   "execution_count": 2,
   "id": "7b50093f",
   "metadata": {},
   "outputs": [
    {
     "name": "stdout",
     "output_type": "stream",
     "text": [
      "File written succesfully\n",
      "Content of my firt assesmebt of file handling in python\n"
     ]
    }
   ],
   "source": [
    "# Write a program to create a \".txt\" file and read an entire text file.\n",
    "\n",
    "s = \"Content of my firt assesmebt of file handling in python\"\n",
    "f1 = open(\"Assesment.txt\",\"w\")\n",
    "f1.write(s)\n",
    "print(\"File written succesfully\")\n",
    "f1.close()\n",
    "\n",
    "# printing the file\n",
    "f1 = open(\"Assesment.txt\",\"r\")\n",
    "fileContent = f1.read()\n",
    "print(fileContent )"
   ]
  },
  {
   "cell_type": "code",
   "execution_count": 3,
   "id": "14c3fa85",
   "metadata": {},
   "outputs": [],
   "source": []
  },
  {
   "cell_type": "code",
   "execution_count": 10,
   "id": "53b8e983",
   "metadata": {},
   "outputs": [
    {
     "name": "stdout",
     "output_type": "stream",
     "text": [
      "file written\n",
      "Content\n"
     ]
    }
   ],
   "source": [
    "# Write a program to read \"N\" lines of a file\n",
    "x = \"Content of a file\"\n",
    "b = \"Second line\"\n",
    "f2 = open(\"file2\",\"w\")\n",
    "f2.write(x)\n",
    "print(\"file written\")\n",
    "f2.close()\n",
    "\n",
    "#printing \"N\" line\n",
    "f2 = open(\"file2\",\"r\")\n",
    "f2Content = f2.read(7)\n",
    "print(f2Content)"
   ]
  },
  {
   "cell_type": "code",
   "execution_count": null,
   "id": "43589194",
   "metadata": {},
   "outputs": [],
   "source": []
  }
 ],
 "metadata": {
  "kernelspec": {
   "display_name": "Python 3 (ipykernel)",
   "language": "python",
   "name": "python3"
  },
  "language_info": {
   "codemirror_mode": {
    "name": "ipython",
    "version": 3
   },
   "file_extension": ".py",
   "mimetype": "text/x-python",
   "name": "python",
   "nbconvert_exporter": "python",
   "pygments_lexer": "ipython3",
   "version": "3.10.7"
  }
 },
 "nbformat": 4,
 "nbformat_minor": 5
}
