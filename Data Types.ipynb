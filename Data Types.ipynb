{
 "cells": [
  {
   "cell_type": "markdown",
   "id": "56c4feee",
   "metadata": {},
   "source": [
    "Numeric: This contain number values\n",
    "           Integers: these are whole numbers\n",
    "           Float: This are decimal numbers\n",
    "           Complex Numbers: This is a combination of alphabets and numbers"
   ]
  },
  {
   "cell_type": "code",
   "execution_count": 7,
   "id": "92a7ebdf",
   "metadata": {},
   "outputs": [
    {
     "name": "stdout",
     "output_type": "stream",
     "text": [
      "<class 'int'>\n",
      "<class 'float'>\n",
      "<class 'complex'>\n"
     ]
    }
   ],
   "source": [
    "#integer\n",
    "a = 1\n",
    "print(type(a))\n",
    "\n",
    "#float\n",
    "b = 10.5\n",
    "print(type(b))\n",
    "\n",
    "#Complex Number\n",
    "c = 2+4j\n",
    "print(type(c))"
   ]
  },
  {
   "cell_type": "markdown",
   "id": "ca2ac716",
   "metadata": {},
   "source": [
    "Boolen: These are True or False statement"
   ]
  },
  {
   "cell_type": "code",
   "execution_count": 10,
   "id": "c870acad",
   "metadata": {},
   "outputs": [
    {
     "name": "stdout",
     "output_type": "stream",
     "text": [
      "<class 'bool'>\n",
      "<class 'bool'>\n"
     ]
    }
   ],
   "source": [
    "a = False\n",
    "print(type(a))\n",
    "\n",
    "b = True\n",
    "print(type(b))"
   ]
  },
  {
   "cell_type": "markdown",
   "id": "8d54812e",
   "metadata": {},
   "source": [
    "Set: These are group of numbers arranged in a curly bracelet. The numbers could be strings, decimals or whole numbers."
   ]
  },
  {
   "cell_type": "code",
   "execution_count": 14,
   "id": "9d22a598",
   "metadata": {},
   "outputs": [
    {
     "name": "stdout",
     "output_type": "stream",
     "text": [
      "<class 'set'>\n",
      "<class 'set'>\n"
     ]
    }
   ],
   "source": [
    "a = {1,2,6,3,5,'c'}\n",
    "print(type(a))\n",
    "\n",
    "b = {'b','c','d'}\n",
    "print(type(b))"
   ]
  },
  {
   "cell_type": "markdown",
   "id": "0701cc77",
   "metadata": {},
   "source": [
    "Dictionary: This accepts two parameters. Keyword and Value"
   ]
  },
  {
   "cell_type": "code",
   "execution_count": 15,
   "id": "c7de11fd",
   "metadata": {},
   "outputs": [
    {
     "name": "stdout",
     "output_type": "stream",
     "text": [
      "<class 'dict'>\n"
     ]
    }
   ],
   "source": [
    "a = {\"key\":\"Value\"}\n",
    "print(type(a))"
   ]
  },
  {
   "cell_type": "markdown",
   "id": "119b90da",
   "metadata": {},
   "source": [
    "Sequence: This could either be a collection of numbers or words\n",
    "            List: These are collection of numbers or alphabetes in a square bracket\n",
    "            Strings: This are alpharbets or words. They must be wrapped in a double or single quote.\n",
    "            Tuple: These are collection of numbers or alphabets wrapped in brackets. "
   ]
  },
  {
   "cell_type": "code",
   "execution_count": 17,
   "id": "73e0d161",
   "metadata": {},
   "outputs": [
    {
     "name": "stdout",
     "output_type": "stream",
     "text": [
      "<class 'list'>\n",
      "<class 'str'>\n",
      "<class 'tuple'>\n"
     ]
    }
   ],
   "source": [
    "#list\n",
    "a = [1,2,3,4,5]\n",
    "print(type(a))\n",
    "\n",
    "#string\n",
    "b = \"python programming\"\n",
    "print(type(b))\n",
    "\n",
    "#tuple\n",
    "c = (1,2,3,4,5)\n",
    "print(type(c))"
   ]
  },
  {
   "cell_type": "code",
   "execution_count": null,
   "id": "73525a81",
   "metadata": {},
   "outputs": [],
   "source": []
  }
 ],
 "metadata": {
  "kernelspec": {
   "display_name": "Python 3 (ipykernel)",
   "language": "python",
   "name": "python3"
  },
  "language_info": {
   "codemirror_mode": {
    "name": "ipython",
    "version": 3
   },
   "file_extension": ".py",
   "mimetype": "text/x-python",
   "name": "python",
   "nbconvert_exporter": "python",
   "pygments_lexer": "ipython3",
   "version": "3.10.7"
  }
 },
 "nbformat": 4,
 "nbformat_minor": 5
}
