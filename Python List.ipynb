{
 "cells": [
  {
   "cell_type": "code",
   "execution_count": 1,
   "id": "db26f4b7",
   "metadata": {},
   "outputs": [
    {
     "name": "stdout",
     "output_type": "stream",
     "text": [
      "Integer list :  [1, 2, 3, 4, 5, 6, 7]\n",
      "String List :  ['Mango', 'Apple', 'Sugar', 'Salt']\n"
     ]
    }
   ],
   "source": [
    "#types of list\n",
    "l1 = [1,2,3,4,5,6,7]\n",
    "l2 = [\"Mango\",\"Apple\",\"Sugar\",\"Salt\"]\n",
    "\n",
    "print(\"Integer list : \",l1)\n",
    "print(\"String List : \",l2)"
   ]
  },
  {
   "cell_type": "code",
   "execution_count": 3,
   "id": "46d4b971",
   "metadata": {},
   "outputs": [
    {
     "name": "stdout",
     "output_type": "stream",
     "text": [
      "Duplicate list :  [1, 2, 3, 4, 5, 6, 1, 2, 3, 4, 5, 1, 2]\n"
     ]
    }
   ],
   "source": [
    "#Duplicate list\n",
    "l1 = [1,2,3,4,5,6,1,2,3,4,5,1,2]\n",
    "\n",
    "print(\"Duplicate list : \",l1)"
   ]
  },
  {
   "cell_type": "code",
   "execution_count": 4,
   "id": "3ef2894c",
   "metadata": {},
   "outputs": [
    {
     "name": "stdout",
     "output_type": "stream",
     "text": [
      "['Apple', 'Mango', 'Orange']\n"
     ]
    }
   ],
   "source": [
    "#List constructor: converts items to list\n",
    "l1 = list((\"Apple\",\"Mango\",\"Orange\"))\n",
    "print(l1)\n"
   ]
  },
  {
   "cell_type": "markdown",
   "id": "8b5bfce6",
   "metadata": {},
   "source": [
    "# List Slicing"
   ]
  },
  {
   "cell_type": "code",
   "execution_count": 10,
   "id": "7163e717",
   "metadata": {},
   "outputs": [
    {
     "name": "stdout",
     "output_type": "stream",
     "text": [
      "Print current list :  [1, 2, 3, 4, 5, 6, 7, 8, 9, 10]\n",
      "Value of index i :  2\n",
      "Value of index 5 :  6\n",
      "Value of index between 1 to 6 :  [2, 3, 4, 5, 6]\n",
      "Value till six :  [1, 2, 3, 4, 5, 6]\n",
      "Last Value from the list :  10\n"
     ]
    }
   ],
   "source": [
    "l1 = [1,2,3,4,5,6,7,8,9,10]\n",
    "print(\"Print current list : \",l1)\n",
    "\n",
    "#Access the value of index 1\n",
    "print(\"Value of index i : \",l1[1])\n",
    "print(\"Value of index 5 : \",l1[5])\n",
    "\n",
    "#Access the value betwen one and six\n",
    "print(\"Value of index between 1 to 6 : \",l1[1:6])\n",
    "\n",
    "#Access the value till 6\n",
    "print(\"Value till six : \",l1[:6])\n",
    "\n",
    "#Access the last value from the list\n",
    "print(\"Last Value from the list : \",l1[-1])"
   ]
  },
  {
   "cell_type": "markdown",
   "id": "9532d045",
   "metadata": {},
   "source": [
    "# List Item Change"
   ]
  },
  {
   "cell_type": "code",
   "execution_count": 11,
   "id": "6de7865c",
   "metadata": {},
   "outputs": [
    {
     "name": "stdout",
     "output_type": "stream",
     "text": [
      "Current list :  ['mango', 'Banana', 'Orange', 'sugar cane', 'kiwi']\n",
      "New List :  ['mango', 'grapes', 'pawpaw', 'sugar cane', 'kiwi']\n"
     ]
    }
   ],
   "source": [
    "#Change item in the list(replace the items in the list)\n",
    "fruits = [\"mango\",\"Banana\",\"Orange\",\"sugar cane\",\"kiwi\"]\n",
    "print(\"Current list : \",fruits)\n",
    "\n",
    "fruits[1:3] = [\"grapes\",\"pawpaw\"]\n",
    "print(\"New List : \",fruits)"
   ]
  },
  {
   "cell_type": "markdown",
   "id": "67066266",
   "metadata": {},
   "source": [
    "# Inserting Item in a list "
   ]
  },
  {
   "cell_type": "code",
   "execution_count": 13,
   "id": "d730dc8c",
   "metadata": {},
   "outputs": [
    {
     "name": "stdout",
     "output_type": "stream",
     "text": [
      "current list :  [1, 2, 3, 4, 5, 6, 7, 8]\n",
      "Inserted list :  [1, 2, 3, 'boy', 4, 5, 6, 7, 8]\n",
      "Inserted on line five :  [1, 2, 3, 'boy', 4, 500, 5, 6, 7, 8]\n"
     ]
    }
   ],
   "source": [
    "l1 = [1,2,3,4,5,6,7,8]\n",
    "print(\"current list : \",l1)\n",
    "\n",
    "l1.insert(3, \"boy\")\n",
    "print(\"Inserted list : \",l1)\n",
    "\n",
    "l1.insert(5, 500)\n",
    "print(\"Inserted on line five : \",l1)"
   ]
  },
  {
   "cell_type": "markdown",
   "id": "a7c774bc",
   "metadata": {},
   "source": [
    "# Extend the content of a list\n"
   ]
  },
  {
   "cell_type": "code",
   "execution_count": 15,
   "id": "7437e1b9",
   "metadata": {},
   "outputs": [
    {
     "name": "stdout",
     "output_type": "stream",
     "text": [
      "Current List :  [1, 2, 3, 4, 5, 6, 7, 8, 9, 10]\n",
      "Extended output :  [1, 2, 3, 4, 5, 6, 7, 8, 9, 10, 'A', 'B', 'C', 'D', 'E', 'F']\n"
     ]
    }
   ],
   "source": [
    "l1 = [1,2,3,4,5,6,7,8,9,10]\n",
    "l2 = [\"A\",\"B\",\"C\",\"D\",\"E\",\"F\"]\n",
    "print(\"Current List : \",l1)\n",
    "\n",
    "l1.extend(l2)\n",
    "print(\"Extended output : \",l1)"
   ]
  },
  {
   "cell_type": "markdown",
   "id": "b9cf0f18",
   "metadata": {},
   "source": [
    "# Remove from the list"
   ]
  },
  {
   "cell_type": "code",
   "execution_count": 22,
   "id": "806a298c",
   "metadata": {},
   "outputs": [
    {
     "name": "stdout",
     "output_type": "stream",
     "text": [
      "Current list :  [1, 2, 3, 4, 5, 6, 7, 8]\n",
      "Three Removed :  [1, 2, 4, 5, 6, 7, 8]\n",
      "Pop remove :  [1, 2, 4, 5, 6, 7]\n",
      "Using clear to remove item from a list :  []\n"
     ]
    },
    {
     "ename": "IndexError",
     "evalue": "list assignment index out of range",
     "output_type": "error",
     "traceback": [
      "\u001b[1;31m---------------------------------------------------------------\u001b[0m",
      "\u001b[1;31mIndexError\u001b[0m                    Traceback (most recent call last)",
      "Cell \u001b[1;32mIn[22], line 18\u001b[0m\n\u001b[0;32m     15\u001b[0m \u001b[38;5;28mprint\u001b[39m(\u001b[38;5;124m\"\u001b[39m\u001b[38;5;124mUsing clear to remove item from a list : \u001b[39m\u001b[38;5;124m\"\u001b[39m,l1)\n\u001b[0;32m     17\u001b[0m \u001b[38;5;66;03m# del \u001b[39;00m\n\u001b[1;32m---> 18\u001b[0m \u001b[38;5;28;01mdel\u001b[39;00m l1[\u001b[38;5;241m2\u001b[39m]\n\u001b[0;32m     19\u001b[0m \u001b[38;5;28mprint\u001b[39m(\u001b[38;5;124m\"\u001b[39m\u001b[38;5;124mUsed del to remove from list : \u001b[39m\u001b[38;5;124m\"\u001b[39m,l1)\n",
      "\u001b[1;31mIndexError\u001b[0m: list assignment index out of range"
     ]
    }
   ],
   "source": [
    "l1 = [1,2,3,4,5,6,7,8]\n",
    "print(\"Current list : \",l1)\n",
    "\n",
    "#Remove\n",
    "l1.remove(3)\n",
    "print(\"Three Removed : \",l1)\n",
    "\n",
    "#pop - Pop is used to \n",
    "\n",
    "l1.pop()\n",
    "print(\"Pop remove : \",l1)\n",
    "\n",
    "#Clear\n",
    "l1.clear()\n",
    "print(\"Using clear to remove item from a list : \",l1)\n",
    "\n",
    "# del \n",
    "del l1[2]\n",
    "print(\"Used del to remove from list : \",l1)\n"
   ]
  },
  {
   "cell_type": "code",
   "execution_count": null,
   "id": "901c8928",
   "metadata": {},
   "outputs": [],
   "source": []
  }
 ],
 "metadata": {
  "kernelspec": {
   "display_name": "Python 3 (ipykernel)",
   "language": "python",
   "name": "python3"
  },
  "language_info": {
   "codemirror_mode": {
    "name": "ipython",
    "version": 3
   },
   "file_extension": ".py",
   "mimetype": "text/x-python",
   "name": "python",
   "nbconvert_exporter": "python",
   "pygments_lexer": "ipython3",
   "version": "3.10.7"
  }
 },
 "nbformat": 4,
 "nbformat_minor": 5
}
