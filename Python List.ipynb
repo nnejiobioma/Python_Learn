{
 "cells": [
  {
   "cell_type": "code",
   "execution_count": 1,
   "id": "b9c1b9d2",
   "metadata": {},
   "outputs": [
    {
     "name": "stdout",
     "output_type": "stream",
     "text": [
      "Integer list :  [1, 2, 3, 4, 5, 6, 7]\n",
      "String List :  ['Mango', 'Apple', 'Sugar', 'Salt']\n"
     ]
    }
   ],
   "source": [
    "#types of list\n",
    "l1 = [1,2,3,4,5,6,7]\n",
    "l2 = [\"Mango\",\"Apple\",\"Sugar\",\"Salt\"]\n",
    "\n",
    "print(\"Integer list : \",l1)\n",
    "print(\"String List : \",l2)"
   ]
  },
  {
   "cell_type": "code",
   "execution_count": 3,
   "id": "66c97e00",
   "metadata": {},
   "outputs": [
    {
     "name": "stdout",
     "output_type": "stream",
     "text": [
      "Duplicate list :  [1, 2, 3, 4, 5, 6, 1, 2, 3, 4, 5, 1, 2]\n"
     ]
    }
   ],
   "source": [
    "#Duplicate list\n",
    "l1 = [1,2,3,4,5,6,1,2,3,4,5,1,2]\n",
    "\n",
    "print(\"Duplicate list : \",l1)"
   ]
  },
  {
   "cell_type": "code",
   "execution_count": 4,
   "id": "2ffa2347",
   "metadata": {},
   "outputs": [
    {
     "name": "stdout",
     "output_type": "stream",
     "text": [
      "['Apple', 'Mango', 'Orange']\n"
     ]
    }
   ],
   "source": [
    "#List constructor: converts items to list\n",
    "l1 = list((\"Apple\",\"Mango\",\"Orange\"))\n",
    "print(l1)\n"
   ]
  },
  {
   "cell_type": "markdown",
   "id": "da3aa9eb",
   "metadata": {},
   "source": [
    "# List Slicing"
   ]
  },
  {
   "cell_type": "code",
   "execution_count": 10,
   "id": "0112f4e0",
   "metadata": {},
   "outputs": [
    {
     "name": "stdout",
     "output_type": "stream",
     "text": [
      "Print current list :  [1, 2, 3, 4, 5, 6, 7, 8, 9, 10]\n",
      "Value of index i :  2\n",
      "Value of index 5 :  6\n",
      "Value of index between 1 to 6 :  [2, 3, 4, 5, 6]\n",
      "Value till six :  [1, 2, 3, 4, 5, 6]\n",
      "Last Value from the list :  10\n"
     ]
    }
   ],
   "source": [
    "l1 = [1,2,3,4,5,6,7,8,9,10]\n",
    "print(\"Print current list : \",l1)\n",
    "\n",
    "#Access the value of index 1\n",
    "print(\"Value of index i : \",l1[1])\n",
    "print(\"Value of index 5 : \",l1[5])\n",
    "\n",
    "#Access the value betwen one and six\n",
    "print(\"Value of index between 1 to 6 : \",l1[1:6])\n",
    "\n",
    "#Access the value till 6\n",
    "print(\"Value till six : \",l1[:6])\n",
    "\n",
    "#Access the last value from the list\n",
    "print(\"Last Value from the list : \",l1[-1])"
   ]
  },
  {
   "cell_type": "markdown",
   "id": "986415a9",
   "metadata": {},
   "source": [
    "# List Item Change"
   ]
  },
  {
   "cell_type": "code",
   "execution_count": 11,
   "id": "31c28c3e",
   "metadata": {},
   "outputs": [
    {
     "name": "stdout",
     "output_type": "stream",
     "text": [
      "Current list :  ['mango', 'Banana', 'Orange', 'sugar cane', 'kiwi']\n",
      "New List :  ['mango', 'grapes', 'pawpaw', 'sugar cane', 'kiwi']\n"
     ]
    }
   ],
   "source": [
    "#Change item in the list(replace the items in the list)\n",
    "fruits = [\"mango\",\"Banana\",\"Orange\",\"sugar cane\",\"kiwi\"]\n",
    "print(\"Current list : \",fruits)\n",
    "\n",
    "fruits[1:3] = [\"grapes\",\"pawpaw\"]\n",
    "print(\"New List : \",fruits)"
   ]
  },
  {
   "cell_type": "markdown",
   "id": "9c861fa3",
   "metadata": {},
   "source": [
    "# Inserting Item in a list "
   ]
  },
  {
   "cell_type": "code",
   "execution_count": 13,
   "id": "fd304d28",
   "metadata": {},
   "outputs": [
    {
     "name": "stdout",
     "output_type": "stream",
     "text": [
      "current list :  [1, 2, 3, 4, 5, 6, 7, 8]\n",
      "Inserted list :  [1, 2, 3, 'boy', 4, 5, 6, 7, 8]\n",
      "Inserted on line five :  [1, 2, 3, 'boy', 4, 500, 5, 6, 7, 8]\n"
     ]
    }
   ],
   "source": [
    "l1 = [1,2,3,4,5,6,7,8]\n",
    "print(\"current list : \",l1)\n",
    "\n",
    "l1.insert(3, \"boy\")\n",
    "print(\"Inserted list : \",l1)\n",
    "\n",
    "l1.insert(5, 500)\n",
    "print(\"Inserted on line five : \",l1)"
   ]
  },
  {
   "cell_type": "markdown",
   "id": "c377e766",
   "metadata": {},
   "source": [
    "# Extend the content of a list\n"
   ]
  },
  {
   "cell_type": "code",
   "execution_count": 15,
   "id": "914efaa2",
   "metadata": {},
   "outputs": [
    {
     "name": "stdout",
     "output_type": "stream",
     "text": [
      "Current List :  [1, 2, 3, 4, 5, 6, 7, 8, 9, 10]\n",
      "Extended output :  [1, 2, 3, 4, 5, 6, 7, 8, 9, 10, 'A', 'B', 'C', 'D', 'E', 'F']\n"
     ]
    }
   ],
   "source": [
    "l1 = [1,2,3,4,5,6,7,8,9,10]\n",
    "l2 = [\"A\",\"B\",\"C\",\"D\",\"E\",\"F\"]\n",
    "print(\"Current List : \",l1)\n",
    "\n",
    "l1.extend(l2)\n",
    "print(\"Extended output : \",l1)"
   ]
  },
  {
   "cell_type": "markdown",
   "id": "b6563f5c",
   "metadata": {},
   "source": [
    "# Remove from the list"
   ]
  },
  {
   "cell_type": "code",
   "execution_count": 25,
   "id": "6e7e3df3",
   "metadata": {},
   "outputs": [
    {
     "name": "stdout",
     "output_type": "stream",
     "text": [
      "Current list :  [1, 2, 3, 4, 5, 6, 7, 8]\n",
      "Three Removed :  [1, 2, 4, 5, 6, 7, 8]\n",
      "Pop remove :  [1, 2, 4, 5, 6, 7]\n",
      "Using clear to remove item from a list :  []\n",
      "Curent List :  [1, 2, 3, 4, 5, 6, 7, 8]\n",
      "Used del to remove from list :  [1, 2, 3, 4, 6, 7, 8]\n"
     ]
    }
   ],
   "source": [
    "l1 = [1,2,3,4,5,6,7,8]\n",
    "print(\"Current list : \",l1)\n",
    "\n",
    "#Remove\n",
    "l1.remove(3)\n",
    "print(\"Three Removed : \",l1)\n",
    "\n",
    "#pop - Pop is used to \n",
    "\n",
    "l1.pop()\n",
    "print(\"Pop remove : \",l1)\n",
    "\n",
    "#Clear\n",
    "l1.clear()\n",
    "print(\"Using clear to remove item from a list : \",l1)\n",
    "\n",
    "l2 = [1,2,3,4,5,6,7,8]\n",
    "print(\"Curent List : \",l2)\n",
    "# del \n",
    "del l2[4]\n",
    "print(\"Used del to remove from list : \",l2)\n"
   ]
  },
  {
   "cell_type": "code",
   "execution_count": null,
   "id": "63981a19",
   "metadata": {},
   "outputs": [],
   "source": []
  }
 ],
 "metadata": {
  "kernelspec": {
   "display_name": "Python 3 (ipykernel)",
   "language": "python",
   "name": "python3"
  },
  "language_info": {
   "codemirror_mode": {
    "name": "ipython",
    "version": 3
   },
   "file_extension": ".py",
   "mimetype": "text/x-python",
   "name": "python",
   "nbconvert_exporter": "python",
   "pygments_lexer": "ipython3",
   "version": "3.10.7"
  }
 },
 "nbformat": 4,
 "nbformat_minor": 5
}
