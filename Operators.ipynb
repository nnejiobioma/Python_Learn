{
 "cells": [
  {
   "cell_type": "markdown",
   "id": "011df384",
   "metadata": {},
   "source": [
    "Arithmetic Operators\n"
   ]
  },
  {
   "cell_type": "code",
   "execution_count": 2,
   "id": "1b8aa5ff",
   "metadata": {},
   "outputs": [
    {
     "name": "stdout",
     "output_type": "stream",
     "text": [
      "Addition :  40\n"
     ]
    }
   ],
   "source": [
    "# Addition operators\n",
    "a = 10\n",
    "b = 30\n",
    "\n",
    "c = a+b\n",
    "print(\"Addition : \",c)"
   ]
  },
  {
   "cell_type": "code",
   "execution_count": 4,
   "id": "2008674a",
   "metadata": {},
   "outputs": [
    {
     "name": "stdout",
     "output_type": "stream",
     "text": [
      "Subtraction :  10\n"
     ]
    }
   ],
   "source": [
    "#Subtraction Operator\n",
    "a = 30\n",
    "b = 20\n",
    "\n",
    "c = a - b\n",
    "print(\"Subtraction : \",c)"
   ]
  },
  {
   "cell_type": "code",
   "execution_count": 5,
   "id": "31eb4701",
   "metadata": {},
   "outputs": [
    {
     "name": "stdout",
     "output_type": "stream",
     "text": [
      "Multiplication :  1500\n"
     ]
    }
   ],
   "source": [
    "#Multiplication Operator\n",
    "a = 30\n",
    "b = 50\n",
    "\n",
    "c = a * b\n",
    "print(\"Multiplication : \",c)"
   ]
  },
  {
   "cell_type": "code",
   "execution_count": 6,
   "id": "ce447279",
   "metadata": {},
   "outputs": [
    {
     "name": "stdout",
     "output_type": "stream",
     "text": [
      "Divition :  33.333333333333336\n"
     ]
    }
   ],
   "source": [
    "#Divition Operators\n",
    "a = 100\n",
    "b = 3\n",
    "\n",
    "c = a / b\n",
    "print(\"Divition : \",c)"
   ]
  },
  {
   "cell_type": "code",
   "execution_count": 7,
   "id": "0b458c79",
   "metadata": {},
   "outputs": [
    {
     "name": "stdout",
     "output_type": "stream",
     "text": [
      "Modulus :  2\n"
     ]
    }
   ],
   "source": [
    "#Modulues Operator\n",
    "a = 30\n",
    "b = 7\n",
    "\n",
    "c = a % b\n",
    "print(\"Modulus : \",c)"
   ]
  },
  {
   "cell_type": "markdown",
   "id": "7d789582",
   "metadata": {},
   "source": [
    "Assignment Operator\n"
   ]
  },
  {
   "cell_type": "code",
   "execution_count": 16,
   "id": "5d2e0084",
   "metadata": {},
   "outputs": [
    {
     "name": "stdout",
     "output_type": "stream",
     "text": [
      "a :  5\n"
     ]
    }
   ],
   "source": [
    "#Equal to operator\n",
    "a = 5\n",
    "print(\"a : \",a)"
   ]
  },
  {
   "cell_type": "code",
   "execution_count": 17,
   "id": "b104a29b",
   "metadata": {},
   "outputs": [
    {
     "name": "stdout",
     "output_type": "stream",
     "text": [
      "X :  15\n"
     ]
    }
   ],
   "source": [
    "#Addition and equal to Operator\n",
    "x = 5\n",
    "x+=10\n",
    "print(\"X : \", x)"
   ]
  },
  {
   "cell_type": "code",
   "execution_count": 19,
   "id": "a66b3939",
   "metadata": {},
   "outputs": [
    {
     "name": "stdout",
     "output_type": "stream",
     "text": [
      "Z :  5\n"
     ]
    }
   ],
   "source": [
    "#Subtraction and equal to operator\n",
    "z = 10\n",
    "z-= 5\n",
    "print(\"Z : \",z)"
   ]
  },
  {
   "cell_type": "code",
   "execution_count": 20,
   "id": "36d56035",
   "metadata": {},
   "outputs": [
    {
     "name": "stdout",
     "output_type": "stream",
     "text": [
      "X :  20\n"
     ]
    }
   ],
   "source": [
    "#Multiplication and equal to operator\n",
    "x = 10\n",
    "x *= 2\n",
    "print(\"X : \", x)"
   ]
  },
  {
   "cell_type": "markdown",
   "id": "598b1057",
   "metadata": {},
   "source": [
    "Comparsion Operators"
   ]
  },
  {
   "cell_type": "code",
   "execution_count": 21,
   "id": "0929b915",
   "metadata": {},
   "outputs": [
    {
     "name": "stdout",
     "output_type": "stream",
     "text": [
      "False\n"
     ]
    }
   ],
   "source": [
    "# Greater than operators\n",
    "x = 5\n",
    "y = 20\n",
    "\n",
    "print(x > y)"
   ]
  },
  {
   "cell_type": "code",
   "execution_count": 22,
   "id": "2675db7c",
   "metadata": {},
   "outputs": [
    {
     "name": "stdout",
     "output_type": "stream",
     "text": [
      "True\n"
     ]
    }
   ],
   "source": [
    "# Less than operators\n",
    "x = 5\n",
    "y = 20\n",
    "\n",
    "print(x < y)"
   ]
  },
  {
   "cell_type": "code",
   "execution_count": 23,
   "id": "17b60bef",
   "metadata": {},
   "outputs": [
    {
     "name": "stdout",
     "output_type": "stream",
     "text": [
      "True\n"
     ]
    }
   ],
   "source": [
    "# Equal to operators\n",
    "x = 5\n",
    "y = 5\n",
    "\n",
    "print(x == y)"
   ]
  },
  {
   "cell_type": "code",
   "execution_count": 26,
   "id": "aa502c62",
   "metadata": {},
   "outputs": [
    {
     "name": "stdout",
     "output_type": "stream",
     "text": [
      "False\n"
     ]
    }
   ],
   "source": [
    "#Not Equal to \n",
    "x = 5\n",
    "y = 5\n",
    "\n",
    "print(x != y)"
   ]
  },
  {
   "cell_type": "code",
   "execution_count": 34,
   "id": "1a0b5410",
   "metadata": {},
   "outputs": [
    {
     "name": "stdout",
     "output_type": "stream",
     "text": [
      "False\n"
     ]
    }
   ],
   "source": [
    "#Equal value and same type\n",
    "x = 5\n",
    "y = \"j\"\n",
    "\n",
    "c = x == y\n",
    "\n",
    "print(c)"
   ]
  },
  {
   "cell_type": "markdown",
   "id": "0ebbcfed",
   "metadata": {},
   "source": [
    "Logical Operator"
   ]
  },
  {
   "cell_type": "code",
   "execution_count": 42,
   "id": "0ef57840",
   "metadata": {},
   "outputs": [
    {
     "name": "stdout",
     "output_type": "stream",
     "text": [
      "True\n"
     ]
    }
   ],
   "source": [
    "# And Operators\n",
    "x = 5\n",
    "print(x<6 and x>2)"
   ]
  },
  {
   "cell_type": "code",
   "execution_count": 43,
   "id": "9ad75085",
   "metadata": {},
   "outputs": [
    {
     "name": "stdout",
     "output_type": "stream",
     "text": [
      "False\n"
     ]
    }
   ],
   "source": [
    "# And Operator 2\n",
    "x = 5\n",
    "print(x>3 and x<3)"
   ]
  },
  {
   "cell_type": "code",
   "execution_count": 44,
   "id": "0d20cdeb",
   "metadata": {},
   "outputs": [
    {
     "name": "stdout",
     "output_type": "stream",
     "text": [
      "True\n"
     ]
    }
   ],
   "source": [
    "# or Operators\n",
    "x = 5\n",
    "print(x>4 or x<5)"
   ]
  },
  {
   "cell_type": "code",
   "execution_count": null,
   "id": "435b49b9",
   "metadata": {},
   "outputs": [],
   "source": []
  }
 ],
 "metadata": {
  "kernelspec": {
   "display_name": "Python 3 (ipykernel)",
   "language": "python",
   "name": "python3"
  },
  "language_info": {
   "codemirror_mode": {
    "name": "ipython",
    "version": 3
   },
   "file_extension": ".py",
   "mimetype": "text/x-python",
   "name": "python",
   "nbconvert_exporter": "python",
   "pygments_lexer": "ipython3",
   "version": "3.10.7"
  }
 },
 "nbformat": 4,
 "nbformat_minor": 5
}
