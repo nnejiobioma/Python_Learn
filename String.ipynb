{
 "cells": [
  {
   "cell_type": "markdown",
   "id": "eedbb19a",
   "metadata": {},
   "source": [
    "# How to use strings"
   ]
  },
  {
   "cell_type": "code",
   "execution_count": 2,
   "id": "b8a5e68c",
   "metadata": {},
   "outputs": [
    {
     "name": "stdout",
     "output_type": "stream",
     "text": [
      "Python is sweet\n"
     ]
    }
   ],
   "source": [
    "#Single quoted sting\n",
    "print('Python is sweet')"
   ]
  },
  {
   "cell_type": "code",
   "execution_count": 4,
   "id": "55126283",
   "metadata": {},
   "outputs": [
    {
     "name": "stdout",
     "output_type": "stream",
     "text": [
      "Python is sweeter\n"
     ]
    }
   ],
   "source": [
    "#Double quoted string\n",
    "print(\"Python is sweeter\")"
   ]
  },
  {
   "cell_type": "code",
   "execution_count": 6,
   "id": "37e1c185",
   "metadata": {},
   "outputs": [
    {
     "name": "stdout",
     "output_type": "stream",
     "text": [
      "Python is sweet\n",
      "It is smart\n",
      "It is user friendly\n",
      "It can be applied in many aspect of computing such as AI, Data Analytics ets\n",
      "\n"
     ]
    }
   ],
   "source": [
    "# Multiline quoted string\n",
    "a = \"\"\"Python is sweet\n",
    "It is smart\n",
    "It is user friendly\n",
    "It can be applied in many aspect of computing such as AI, Data Analytics ets\n",
    "\"\"\"\n",
    "\n",
    "print(a)"
   ]
  },
  {
   "cell_type": "markdown",
   "id": "3a239964",
   "metadata": {},
   "source": [
    "# Update string"
   ]
  },
  {
   "cell_type": "code",
   "execution_count": 17,
   "id": "375ff2ae",
   "metadata": {},
   "outputs": [
    {
     "name": "stdout",
     "output_type": "stream",
     "text": [
      "Hello world\n",
      "Update string:  Hello python\n"
     ]
    }
   ],
   "source": [
    "# update sting using indexing\n",
    "a = \"Hello world\"\n",
    "print(a)\n",
    "\n",
    "print(\"Update string: \",a[:6]+\"python\")"
   ]
  },
  {
   "cell_type": "markdown",
   "id": "1dd57d6e",
   "metadata": {},
   "source": [
    "# String Slicing"
   ]
  },
  {
   "cell_type": "code",
   "execution_count": 29,
   "id": "96b75460",
   "metadata": {},
   "outputs": [
    {
     "name": "stdout",
     "output_type": "stream",
     "text": [
      "Index :  P\n",
      "Index from 0 to 6 :  ello \n",
      "six index :  Hello Py\n",
      "Last index :  n\n"
     ]
    }
   ],
   "source": [
    "# Accessing the value of an index\n",
    "\n",
    "a = \"Hello Python\"\n",
    "print(\"Index : \", a[6])\n",
    "\n",
    "# Accessing the value from 1 to 6\n",
    "\n",
    "print(\"Index from 0 to 6 : \",a[1:6])\n",
    "\n",
    "# Accessing the index untill eight\n",
    "print(\"six index : \",a[:8])\n",
    "\n",
    "# Accessing the last string( Accessing string from the last string)\n",
    "print(\"Last index : \",a[-1])"
   ]
  },
  {
   "cell_type": "code",
   "execution_count": null,
   "id": "462ef53a",
   "metadata": {},
   "outputs": [],
   "source": []
  }
 ],
 "metadata": {
  "kernelspec": {
   "display_name": "Python 3 (ipykernel)",
   "language": "python",
   "name": "python3"
  },
  "language_info": {
   "codemirror_mode": {
    "name": "ipython",
    "version": 3
   },
   "file_extension": ".py",
   "mimetype": "text/x-python",
   "name": "python",
   "nbconvert_exporter": "python",
   "pygments_lexer": "ipython3",
   "version": "3.10.7"
  }
 },
 "nbformat": 4,
 "nbformat_minor": 5
}
