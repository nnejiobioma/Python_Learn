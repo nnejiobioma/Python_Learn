{
 "cells": [
  {
   "cell_type": "markdown",
   "id": "b15b4d38",
   "metadata": {},
   "source": [
    "# How to use strings"
   ]
  },
  {
   "cell_type": "code",
   "execution_count": 2,
   "id": "10fc7225",
   "metadata": {},
   "outputs": [
    {
     "name": "stdout",
     "output_type": "stream",
     "text": [
      "Python is sweet\n"
     ]
    }
   ],
   "source": [
    "#Single quoted sting\n",
    "print('Python is sweet')"
   ]
  },
  {
   "cell_type": "code",
   "execution_count": 4,
   "id": "c543e8ee",
   "metadata": {},
   "outputs": [
    {
     "name": "stdout",
     "output_type": "stream",
     "text": [
      "Python is sweeter\n"
     ]
    }
   ],
   "source": [
    "#Double quoted string\n",
    "print(\"Python is sweeter\")"
   ]
  },
  {
   "cell_type": "code",
   "execution_count": 6,
   "id": "0a27be41",
   "metadata": {},
   "outputs": [
    {
     "name": "stdout",
     "output_type": "stream",
     "text": [
      "Python is sweet\n",
      "It is smart\n",
      "It is user friendly\n",
      "It can be applied in many aspect of computing such as AI, Data Analytics ets\n",
      "\n"
     ]
    }
   ],
   "source": [
    "# Multiline quoted string\n",
    "a = \"\"\"Python is sweet\n",
    "It is smart\n",
    "It is user friendly\n",
    "It can be applied in many aspect of computing such as AI, Data Analytics ets\n",
    "\"\"\"\n",
    "\n",
    "print(a)"
   ]
  },
  {
   "cell_type": "markdown",
   "id": "fc660663",
   "metadata": {},
   "source": [
    "# Update string"
   ]
  },
  {
   "cell_type": "code",
   "execution_count": 17,
   "id": "e3ae7d4e",
   "metadata": {},
   "outputs": [
    {
     "name": "stdout",
     "output_type": "stream",
     "text": [
      "Hello world\n",
      "Update string:  Hello python\n"
     ]
    }
   ],
   "source": [
    "# update sting using indexing\n",
    "a = \"Hello world\"\n",
    "print(a)\n",
    "\n",
    "print(\"Update string: \",a[:6]+\"python\")"
   ]
  },
  {
   "cell_type": "markdown",
   "id": "23996cb8",
   "metadata": {},
   "source": [
    "# String Slicing"
   ]
  },
  {
   "cell_type": "code",
   "execution_count": 29,
   "id": "1141bea7",
   "metadata": {},
   "outputs": [
    {
     "name": "stdout",
     "output_type": "stream",
     "text": [
      "Index :  P\n",
      "Index from 0 to 6 :  ello \n",
      "six index :  Hello Py\n",
      "Last index :  n\n"
     ]
    }
   ],
   "source": [
    "# Accessing the value of an index\n",
    "\n",
    "a = \"Hello Python\"\n",
    "print(\"Index : \", a[6])\n",
    "\n",
    "# Accessing the value from 1 to 6\n",
    "\n",
    "print(\"Index from 0 to 6 : \",a[1:6])\n",
    "\n",
    "# Accessing the index untill eight\n",
    "print(\"six index : \",a[:8])\n",
    "\n",
    "# Accessing the last string( Accessing string from the last string)\n",
    "print(\"Last index : \",a[-1])"
   ]
  },
  {
   "cell_type": "markdown",
   "id": "ab1dfe04",
   "metadata": {},
   "source": [
    "# String Built in Methods\n"
   ]
  },
  {
   "cell_type": "code",
   "execution_count": 30,
   "id": "1f9de28e",
   "metadata": {},
   "outputs": [
    {
     "name": "stdout",
     "output_type": "stream",
     "text": [
      "This is python\n"
     ]
    }
   ],
   "source": [
    "# capitalization()\n",
    "a = \"this is python\"\n",
    "c = a.capitalize()\n",
    "print(c)"
   ]
  },
  {
   "cell_type": "code",
   "execution_count": 31,
   "id": "2c5a3e4e",
   "metadata": {},
   "outputs": [
    {
     "name": "stdout",
     "output_type": "stream",
     "text": [
      "this is python tutorial\n"
     ]
    }
   ],
   "source": [
    "# Casefold() : This converts all captital into small letter\n",
    "\n",
    "a = \"This Is Python Tutorial\"\n",
    "c = a.casefold()\n",
    "print(c)"
   ]
  },
  {
   "cell_type": "code",
   "execution_count": 34,
   "id": "163032ba",
   "metadata": {},
   "outputs": [
    {
     "name": "stdout",
     "output_type": "stream",
     "text": [
      "Python\n",
      "            Python            \n"
     ]
    }
   ],
   "source": [
    "# Center() : This brings your string to the center within the space specified\n",
    "a = \"Python\"\n",
    "print(a)\n",
    "\n",
    "c = \"Python\"\n",
    "x = a.center(30)\n",
    "print(x)\n"
   ]
  },
  {
   "cell_type": "code",
   "execution_count": 39,
   "id": "a5a0b312",
   "metadata": {},
   "outputs": [
    {
     "name": "stdout",
     "output_type": "stream",
     "text": [
      "3\n"
     ]
    }
   ],
   "source": [
    "# Count()\n",
    "\n",
    "a = \"python is a good programing language, We love python because it is python\"\n",
    "c = a.count(\"python\")\n",
    "print(c)"
   ]
  },
  {
   "cell_type": "markdown",
   "id": "41374ea5",
   "metadata": {},
   "source": [
    "# How to compare string"
   ]
  },
  {
   "cell_type": "code",
   "execution_count": 40,
   "id": "7c9a1687",
   "metadata": {},
   "outputs": [
    {
     "name": "stdout",
     "output_type": "stream",
     "text": [
      "True\n"
     ]
    }
   ],
   "source": [
    "str1 = \"python\"\n",
    "str2 = \"python\"\n",
    "\n",
    "comp = str1 == str2\n",
    "print(comp)"
   ]
  },
  {
   "cell_type": "code",
   "execution_count": 41,
   "id": "09496fc2",
   "metadata": {},
   "outputs": [
    {
     "name": "stdout",
     "output_type": "stream",
     "text": [
      "False\n"
     ]
    }
   ],
   "source": [
    "str1 = \"python\"\n",
    "str2 = \"Python\"\n",
    "\n",
    "comp2 = str1 == str2\n",
    "print(comp2)"
   ]
  },
  {
   "cell_type": "code",
   "execution_count": 43,
   "id": "7949daff",
   "metadata": {},
   "outputs": [
    {
     "name": "stdout",
     "output_type": "stream",
     "text": [
      "True\n"
     ]
    }
   ],
   "source": [
    "# to show comparizm based on english dictionary\n",
    "\n",
    "str1 = \"A\"\n",
    "str2 = \"B\"\n",
    "\n",
    "comp3 = str1 < str2\n",
    "print(comp3)"
   ]
  },
  {
   "cell_type": "code",
   "execution_count": null,
   "id": "0a6ac55e",
   "metadata": {},
   "outputs": [],
   "source": []
  }
 ],
 "metadata": {
  "kernelspec": {
   "display_name": "Python 3 (ipykernel)",
   "language": "python",
   "name": "python3"
  },
  "language_info": {
   "codemirror_mode": {
    "name": "ipython",
    "version": 3
   },
   "file_extension": ".py",
   "mimetype": "text/x-python",
   "name": "python",
   "nbconvert_exporter": "python",
   "pygments_lexer": "ipython3",
   "version": "3.10.7"
  }
 },
 "nbformat": 4,
 "nbformat_minor": 5
}
