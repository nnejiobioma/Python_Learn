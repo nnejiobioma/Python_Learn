{
 "cells": [
  {
   "cell_type": "code",
   "execution_count": 5,
   "id": "ae8ab2cc",
   "metadata": {},
   "outputs": [
    {
     "name": "stdout",
     "output_type": "stream",
     "text": [
      "{1: 'Apple', 2: 'Grap', 3: 'Orange', 4: 'Fruits', 'B': 'A'}\n",
      "<class 'dict'>\n"
     ]
    }
   ],
   "source": [
    "# Python dictionary creation\n",
    "\n",
    "dic1 = {1:\"Apple\",2:\"Grap\",3:\"Orange\",4:\"Fruits\",'B':'A'}\n",
    "print(dic1)\n",
    "print(type(dic1))"
   ]
  },
  {
   "cell_type": "markdown",
   "id": "3e3468a4",
   "metadata": {},
   "source": [
    "# Store List into Dictionary "
   ]
  },
  {
   "cell_type": "code",
   "execution_count": 7,
   "id": "4a6fc054",
   "metadata": {},
   "outputs": [
    {
     "name": "stdout",
     "output_type": "stream",
     "text": [
      "{1: 'apple', 2: 'Mango', 3: 'Orange', 'programs': ['python', 'JavaScript', 'C programing']}\n",
      "<class 'dict'>\n"
     ]
    }
   ],
   "source": [
    "# store a list inside a dictionary\n",
    "d1 = {1:\"apple\",2:\"Mango\",3:\"Orange\",\"programs\":[\"python\",\"JavaScript\",\"C programing\"]}\n",
    "print(d1)\n",
    "print(type(d1))"
   ]
  },
  {
   "cell_type": "code",
   "execution_count": 9,
   "id": "45965f1e",
   "metadata": {},
   "outputs": [
    {
     "name": "stdout",
     "output_type": "stream",
     "text": [
      "{1: 'apple', 2: 'Mango', 3: 'Orange', 'numbers': (1, 2, 3, 4, 5, 6)}\n"
     ]
    }
   ],
   "source": [
    "#store tuple in a dictionary\n",
    "d2 = {1:\"apple\",2:\"Mango\",3:\"Orange\",\"numbers\":(1,2,3,4,5,6)}\n",
    "print(d2)"
   ]
  },
  {
   "cell_type": "markdown",
   "id": "bd533cfa",
   "metadata": {},
   "source": [
    "# Accessing the value of dictionary"
   ]
  },
  {
   "cell_type": "code",
   "execution_count": 10,
   "id": "1f08c370",
   "metadata": {},
   "outputs": [
    {
     "name": "stdout",
     "output_type": "stream",
     "text": [
      "Orange\n"
     ]
    }
   ],
   "source": [
    "# Accesing the value using Key\n",
    "dic1 = {1:\"Apple\",2:\"Grap\",3:\"Orange\",4:\"Fruits\",'B':'A'}\n",
    "x = dic1[3]\n",
    "print(x)"
   ]
  },
  {
   "cell_type": "code",
   "execution_count": 15,
   "id": "264dc9f8",
   "metadata": {},
   "outputs": [
    {
     "name": "stdout",
     "output_type": "stream",
     "text": [
      "Apple\n",
      "Fruits\n",
      "(1, 2, 3, 4, 5, 6)\n"
     ]
    }
   ],
   "source": [
    "# Accessing value using get method\n",
    "dic1 = {1:\"Apple\",2:\"Grap\",3:\"Orange\",4:\"Fruits\",'B':'A'}\n",
    "y = dic1.get(1)\n",
    "print(y)\n",
    "\n",
    "x = dic1.get(4)\n",
    "print(x)\n",
    "\n",
    "d2 = {1:\"apple\",2:\"Mango\",3:\"Orange\",\"numbers\":(1,2,3,4,5,6)}\n",
    "i = d2.get(\"numbers\")\n",
    "print(i)"
   ]
  },
  {
   "cell_type": "code",
   "execution_count": 16,
   "id": "9559a366",
   "metadata": {},
   "outputs": [
    {
     "name": "stdout",
     "output_type": "stream",
     "text": [
      "dict_items([(1, 'apple'), (2, 'Mango'), (3, 'Orange'), ('numbers', (1, 2, 3, 4, 5, 6))])\n"
     ]
    }
   ],
   "source": [
    "#Accessing the value using item(this returns the value into tuple)\n",
    "d2 = {1:\"apple\",2:\"Mango\",3:\"Orange\",\"numbers\":(1,2,3,4,5,6)}\n",
    "n = d2.items()\n",
    "print(n)"
   ]
  },
  {
   "cell_type": "markdown",
   "id": "b4984c49",
   "metadata": {},
   "source": [
    "# Change the value"
   ]
  },
  {
   "cell_type": "code",
   "execution_count": 17,
   "id": "1f89f870",
   "metadata": {},
   "outputs": [
    {
     "name": "stdout",
     "output_type": "stream",
     "text": [
      "Updated list :  {1: 'apple', 2: 'Mango', 3: 'man', 'numbers': (1, 2, 3, 4, 5, 6)}\n"
     ]
    }
   ],
   "source": [
    "d2 = {1:\"apple\",2:\"Mango\",3:\"Orange\",\"numbers\":(1,2,3,4,5,6)}\n",
    "d2[3] = \"man\"\n",
    "print(\"Updated list : \",d2)"
   ]
  },
  {
   "cell_type": "code",
   "execution_count": 21,
   "id": "2b45381d",
   "metadata": {},
   "outputs": [
    {
     "name": "stdout",
     "output_type": "stream",
     "text": [
      "current value :  {1: 'apple', 2: 'Banana', 3: 'man', 'numbers': [3, 4, 5, 6, 6, 7]}\n",
      "Updated value :  {1: 'apple', 2: 'Banana', 3: 'man', 'numbers': [3, 4, 5, 6, 6, 7]}\n",
      "Updated list value {1: 'apple', 2: 'Banana', 3: 'man', 'numbers': [3, 4, 5, 6, 6, 7]}\n"
     ]
    }
   ],
   "source": [
    "print(\"current value : \",d2)\n",
    "# Update value using update\n",
    "d2.update({2:\"Banana\"})\n",
    "print(\"Updated value : \",d2)\n",
    "\n",
    "d2.update({\"numbers\":[3,4,5,6,6,7]})\n",
    "print(\"Updated list value\",d2)"
   ]
  },
  {
   "cell_type": "markdown",
   "id": "d3834cb1",
   "metadata": {},
   "source": [
    "# Remove value from dictionary"
   ]
  },
  {
   "cell_type": "code",
   "execution_count": 23,
   "id": "ac9b634d",
   "metadata": {},
   "outputs": [
    {
     "name": "stdout",
     "output_type": "stream",
     "text": [
      "Current dictionary :  {1: 'apple', 2: 'Banana', 3: 'man', 'numbers': [3, 4, 5, 6, 6, 7]}\n",
      "Current list after pop :  {1: 'apple', 2: 'Banana', 'numbers': [3, 4, 5, 6, 6, 7]}\n"
     ]
    }
   ],
   "source": [
    "#Using the pop method ( When using the pop method in dictionary, you have to specify an index unlike when using it in a list)\n",
    "print(\"Current dictionary : \",d2)\n",
    "\n",
    "d2.pop(3)\n",
    "print(\"Current list after pop : \",d2)"
   ]
  },
  {
   "cell_type": "code",
   "execution_count": 24,
   "id": "52eaa515",
   "metadata": {},
   "outputs": [
    {
     "name": "stdout",
     "output_type": "stream",
     "text": [
      "Current list :  {1: 'apple', 2: 'Banana', 'numbers': [3, 4, 5, 6, 6, 7]}\n",
      "Current list after popItem {1: 'apple', 2: 'Banana'}\n"
     ]
    }
   ],
   "source": [
    "# Removing item using the popitem method (This remove the last item in the list)\n",
    "print(\"Current list : \",d2)\n",
    "\n",
    "d2.popitem()\n",
    "print(\"Current list after popItem\",d2)"
   ]
  },
  {
   "cell_type": "code",
   "execution_count": 25,
   "id": "38cb44c7",
   "metadata": {},
   "outputs": [
    {
     "name": "stdout",
     "output_type": "stream",
     "text": [
      "Current Value :  {2: 'Banana'}\n"
     ]
    }
   ],
   "source": [
    "# Using the del method\n",
    "del d2[1]\n",
    "print(\"Current Value : \",d2)"
   ]
  },
  {
   "cell_type": "code",
   "execution_count": 26,
   "id": "6836918f",
   "metadata": {},
   "outputs": [
    {
     "name": "stdout",
     "output_type": "stream",
     "text": [
      "{}\n"
     ]
    }
   ],
   "source": [
    "# Using the clear method\n",
    "d2.clear()\n",
    "print(d2)"
   ]
  },
  {
   "cell_type": "code",
   "execution_count": 31,
   "id": "c73a432c",
   "metadata": {},
   "outputs": [
    {
     "name": "stdout",
     "output_type": "stream",
     "text": [
      "{1: 'apple', 2: 'Mango', 3: 'Orange', 'numbers': (1, 2, 3, 4, 5, 6)}\n",
      "Key Values :  dict_keys([1, 2, 3, 'numbers'])\n"
     ]
    }
   ],
   "source": [
    "# Printing the keys\n",
    "d2 = {1:\"apple\",2:\"Mango\",3:\"Orange\",\"numbers\":(1,2,3,4,5,6)}\n",
    "print(d2)\n",
    "\n",
    "y = d2.keys()\n",
    "print(\"Key Values : \",y)"
   ]
  },
  {
   "cell_type": "code",
   "execution_count": 32,
   "id": "f33cd829",
   "metadata": {},
   "outputs": [
    {
     "name": "stdout",
     "output_type": "stream",
     "text": [
      "dict_values(['apple', 'Mango', 'Orange', (1, 2, 3, 4, 5, 6)])\n"
     ]
    }
   ],
   "source": [
    "# Printing dictionary values\n",
    "d = d2.values()\n",
    "print(d)"
   ]
  },
  {
   "cell_type": "code",
   "execution_count": 34,
   "id": "aba53466",
   "metadata": {},
   "outputs": [
    {
     "name": "stdout",
     "output_type": "stream",
     "text": [
      "Mango\n"
     ]
    }
   ],
   "source": [
    "x = d2.get(2)\n",
    "print(x)"
   ]
  },
  {
   "cell_type": "code",
   "execution_count": null,
   "id": "0abd720d",
   "metadata": {},
   "outputs": [],
   "source": []
  }
 ],
 "metadata": {
  "kernelspec": {
   "display_name": "Python 3 (ipykernel)",
   "language": "python",
   "name": "python3"
  },
  "language_info": {
   "codemirror_mode": {
    "name": "ipython",
    "version": 3
   },
   "file_extension": ".py",
   "mimetype": "text/x-python",
   "name": "python",
   "nbconvert_exporter": "python",
   "pygments_lexer": "ipython3",
   "version": "3.10.7"
  }
 },
 "nbformat": 4,
 "nbformat_minor": 5
}
