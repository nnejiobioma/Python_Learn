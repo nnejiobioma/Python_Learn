{
 "cells": [
  {
   "cell_type": "markdown",
   "id": "e440b8d9",
   "metadata": {},
   "source": [
    "If statement(Simple If Statement)"
   ]
  },
  {
   "cell_type": "code",
   "execution_count": 3,
   "id": "5b65ded3",
   "metadata": {
    "scrolled": true
   },
   "outputs": [
    {
     "name": "stdout",
     "output_type": "stream",
     "text": [
      "Value of variables is 20\n",
      "age\n"
     ]
    }
   ],
   "source": [
    "var = 20\n",
    "\n",
    "if(var == 20):\n",
    "    print(\"Value of variables is 20\")\n",
    "    \n",
    "print(\"age\")"
   ]
  },
  {
   "cell_type": "code",
   "execution_count": 11,
   "id": "d34c0629",
   "metadata": {},
   "outputs": [
    {
     "name": "stdout",
     "output_type": "stream",
     "text": [
      "age\n"
     ]
    }
   ],
   "source": [
    "var_1 = 20\n",
    "\n",
    "if(var_1 >= 30):\n",
    "    print(\"The value is 20\")\n",
    "    \n",
    "print(\"age\")"
   ]
  },
  {
   "cell_type": "markdown",
   "id": "828a4398",
   "metadata": {},
   "source": [
    "# if_else statement"
   ]
  },
  {
   "cell_type": "code",
   "execution_count": 13,
   "id": "fbdd8858",
   "metadata": {},
   "outputs": [
    {
     "name": "stdout",
     "output_type": "stream",
     "text": [
      "Type number for value of A : 20\n",
      "Type number for value of B : 10\n",
      "A is greater\n"
     ]
    }
   ],
   "source": [
    "a = int(input(\"Type number for value of A : \"))\n",
    "b = int(input(\"Type number for value of B : \"))\n",
    "\n",
    "if (a > b):\n",
    "    print(\"A is greater\")\n",
    "else:\n",
    "    print(\"B is greater\")"
   ]
  },
  {
   "cell_type": "code",
   "execution_count": 2,
   "id": "78b30979",
   "metadata": {},
   "outputs": [
    {
     "name": "stdout",
     "output_type": "stream",
     "text": [
      "Y is greater than C\n"
     ]
    }
   ],
   "source": [
    "#static if_else statement\n",
    "y = 40\n",
    "c = 30\n",
    "\n",
    "if y > c:\n",
    "    print(\"Y is greater than C\")\n",
    "else:\n",
    "    print(\"C is greater than Y\")"
   ]
  },
  {
   "cell_type": "markdown",
   "id": "fae6c7d5",
   "metadata": {},
   "source": [
    "# If_else_ladder\n"
   ]
  },
  {
   "cell_type": "code",
   "execution_count": 6,
   "id": "376efe5c",
   "metadata": {},
   "outputs": [
    {
     "name": "stdout",
     "output_type": "stream",
     "text": [
      "Enter a percentage : 40\n",
      "fail\n"
     ]
    }
   ],
   "source": [
    "# Conditions.\n",
    "# 1. Percentage greater than 70 == Dist\n",
    "# 2. Percentage greater or equalto 65 and less than 70 == 1st Class\n",
    "# 3. Percentage greater or equalto 60 and less than 65 == 2nd Class\n",
    "# 4. Percentage greater or equal to 55 and less than 60 == 3st Class\n",
    "# 4b. Percentage greater or equal to 50 and less than 55 == 4th Class\n",
    "# 5. Percentage less than 55 == fail\n",
    "\n",
    "a = int(input(\"Enter a percentage : \"))\n",
    "\n",
    "if a>70:\n",
    "    print(\"Dist\")\n",
    "elif a >= 65 and a < 70:\n",
    "    print(\"1st Class\")\n",
    "elif a >= 60 and a < 65:\n",
    "    print(\"2nd Class\")\n",
    "elif a >= 55 and a < 60:\n",
    "    print(\"3rd Class\")\n",
    "elif a >= 50 and a < 55:\n",
    "    print(\"4th Class\")\n",
    "else:\n",
    "    print(\"fail\")"
   ]
  },
  {
   "cell_type": "markdown",
   "id": "96bbb721",
   "metadata": {},
   "source": [
    "# Nested If"
   ]
  },
  {
   "cell_type": "code",
   "execution_count": 12,
   "id": "36437528",
   "metadata": {},
   "outputs": [
    {
     "name": "stdout",
     "output_type": "stream",
     "text": [
      "b is greater than a\n"
     ]
    }
   ],
   "source": [
    "a = 3\n",
    "b = 20\n",
    "\n",
    "if a < b :\n",
    "    if b > a :\n",
    "        print(\"b is greater than a\")\n",
    "    else:\n",
    "        print(\"A is less than B\")\n",
    "else:\n",
    "    print(\"End\")"
   ]
  },
  {
   "cell_type": "code",
   "execution_count": 48,
   "id": "a13b7664",
   "metadata": {},
   "outputs": [
    {
     "name": "stdout",
     "output_type": "stream",
     "text": [
      "Enter value for A : 20\n",
      "Enter value for B : 30\n",
      "You can procced. Thank you\n"
     ]
    }
   ],
   "source": [
    "a = int(input(\"Enter value for A : \"))\n",
    "b = int(input(\"Enter value for B : \"))\n",
    "\n",
    "if a >= 20 :\n",
    "    if b >= 30:\n",
    "        print(\"You can procced. Thank you\")\n",
    "    else:\n",
    "            print(\"B is Less than 30, B is : \",b, \"Please try Again\")\n",
    "else:\n",
    "    print(\"A is less than 20, A is : \",a, \"Please try Again\")"
   ]
  },
  {
   "cell_type": "code",
   "execution_count": 43,
   "id": "2f15bb1c",
   "metadata": {},
   "outputs": [
    {
     "name": "stdout",
     "output_type": "stream",
     "text": [
      "What is your age : 20\n",
      "what is your weight : 65\n",
      "Please Donate Blood. Thank you\n"
     ]
    }
   ],
   "source": [
    "# Blood dono program\n",
    "# 1. age => 18\n",
    "# 2. weight => 50\n",
    "# 3. If both age and weight matches with certerial the the user can donate blood show message Please Donate Blood\n",
    "# 4. If age is less than 18 show mesaage under age\n",
    "# 5. If weight is less that 50 show message under weight\n",
    "# 6. If age doesnot match then it should not ask for weight\n",
    "\n",
    "age = int(input(\"What is your age : \"))\n",
    "\n",
    "if age >= 18:\n",
    "    weight = int(input(\"what is your weight : \"))\n",
    "    if weight >= 50:\n",
    "        print(\"Please Donate Blood. Thank you\")\n",
    "    else:\n",
    "            print(\"Sorry your are under weight you can't donate blood at this time\")\n",
    "else:\n",
    "    print(\"Sorry your are under age you can't donate blood at this time\")\n",
    "    "
   ]
  },
  {
   "cell_type": "code",
   "execution_count": null,
   "id": "9497a531",
   "metadata": {},
   "outputs": [],
   "source": []
  }
 ],
 "metadata": {
  "kernelspec": {
   "display_name": "Python 3 (ipykernel)",
   "language": "python",
   "name": "python3"
  },
  "language_info": {
   "codemirror_mode": {
    "name": "ipython",
    "version": 3
   },
   "file_extension": ".py",
   "mimetype": "text/x-python",
   "name": "python",
   "nbconvert_exporter": "python",
   "pygments_lexer": "ipython3",
   "version": "3.10.7"
  }
 },
 "nbformat": 4,
 "nbformat_minor": 5
}
