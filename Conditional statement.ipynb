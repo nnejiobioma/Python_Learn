{
 "cells": [
  {
   "cell_type": "markdown",
   "id": "e440b8d9",
   "metadata": {},
   "source": [
    "If statement(Simple If Statement)"
   ]
  },
  {
   "cell_type": "code",
   "execution_count": 3,
   "id": "5b65ded3",
   "metadata": {
    "scrolled": true
   },
   "outputs": [
    {
     "name": "stdout",
     "output_type": "stream",
     "text": [
      "Value of variables is 20\n",
      "age\n"
     ]
    }
   ],
   "source": [
    "var = 20\n",
    "\n",
    "if(var == 20):\n",
    "    print(\"Value of variables is 20\")\n",
    "    \n",
    "print(\"age\")"
   ]
  },
  {
   "cell_type": "code",
   "execution_count": 11,
   "id": "d34c0629",
   "metadata": {},
   "outputs": [
    {
     "name": "stdout",
     "output_type": "stream",
     "text": [
      "age\n"
     ]
    }
   ],
   "source": [
    "var_1 = 20\n",
    "\n",
    "if(var_1 >= 30):\n",
    "    print(\"The value is 20\")\n",
    "    \n",
    "print(\"age\")"
   ]
  },
  {
   "cell_type": "markdown",
   "id": "828a4398",
   "metadata": {},
   "source": [
    "# if_else statement"
   ]
  },
  {
   "cell_type": "code",
   "execution_count": 13,
   "id": "fbdd8858",
   "metadata": {},
   "outputs": [
    {
     "name": "stdout",
     "output_type": "stream",
     "text": [
      "Type number for value of A : 20\n",
      "Type number for value of B : 10\n",
      "A is greater\n"
     ]
    }
   ],
   "source": [
    "a = int(input(\"Type number for value of A : \"))\n",
    "b = int(input(\"Type number for value of B : \"))\n",
    "\n",
    "if (a > b):\n",
    "    print(\"A is greater\")\n",
    "else:\n",
    "    print(\"B is greater\")"
   ]
  },
  {
   "cell_type": "markdown",
   "id": "fae6c7d5",
   "metadata": {},
   "source": [
    "# If_else_ladder\n"
   ]
  },
  {
   "cell_type": "code",
   "execution_count": null,
   "id": "376efe5c",
   "metadata": {},
   "outputs": [],
   "source": []
  }
 ],
 "metadata": {
  "kernelspec": {
   "display_name": "Python 3 (ipykernel)",
   "language": "python",
   "name": "python3"
  },
  "language_info": {
   "codemirror_mode": {
    "name": "ipython",
    "version": 3
   },
   "file_extension": ".py",
   "mimetype": "text/x-python",
   "name": "python",
   "nbconvert_exporter": "python",
   "pygments_lexer": "ipython3",
   "version": "3.10.7"
  }
 },
 "nbformat": 4,
 "nbformat_minor": 5
}
