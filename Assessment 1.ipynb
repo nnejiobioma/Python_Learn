{
 "cells": [
  {
   "cell_type": "code",
   "execution_count": 1,
   "id": "5693f9cc",
   "metadata": {},
   "outputs": [
    {
     "name": "stdout",
     "output_type": "stream",
     "text": [
      "Hello Python\n"
     ]
    }
   ],
   "source": [
    "#Program that prints hello Phython\n",
    "print(\"Hello Python\")"
   ]
  },
  {
   "cell_type": "code",
   "execution_count": 2,
   "id": "4e4ae32f",
   "metadata": {},
   "outputs": [
    {
     "name": "stdout",
     "output_type": "stream",
     "text": [
      "5\n"
     ]
    }
   ],
   "source": [
    "#Program that store one variable and store that variable\n",
    "a = 5\n",
    "print(a)"
   ]
  },
  {
   "cell_type": "code",
   "execution_count": 3,
   "id": "c6b23019",
   "metadata": {},
   "outputs": [
    {
     "name": "stdout",
     "output_type": "stream",
     "text": [
      "What is your name : John Bull\n",
      "Name :  John Bull\n"
     ]
    }
   ],
   "source": [
    "#Program that takes a value from user and prints the value\n",
    "\n",
    "a = input(\"What is your name : \")\n",
    "print(\"Name : \",a)"
   ]
  },
  {
   "cell_type": "code",
   "execution_count": 4,
   "id": "8a675698",
   "metadata": {},
   "outputs": [
    {
     "name": "stdout",
     "output_type": "stream",
     "text": [
      "Sum :  80\n"
     ]
    }
   ],
   "source": [
    "# program that do the sum of two values\n",
    "\n",
    "a = 30;\n",
    "b = 50;\n",
    "\n",
    "c = a + b;\n",
    "print(\"Sum : \",c)"
   ]
  },
  {
   "cell_type": "code",
   "execution_count": 5,
   "id": "855f26a5",
   "metadata": {},
   "outputs": [
    {
     "name": "stdout",
     "output_type": "stream",
     "text": [
      "Division :  2.0\n"
     ]
    }
   ],
   "source": [
    "#program that performs division using variables\n",
    "\n",
    "x = 20\n",
    "y = 10\n",
    "\n",
    "i = x / y\n",
    "print(\"Division : \",i)"
   ]
  },
  {
   "cell_type": "code",
   "execution_count": 6,
   "id": "ca5dc592",
   "metadata": {},
   "outputs": [
    {
     "name": "stdout",
     "output_type": "stream",
     "text": [
      "30 20 50 10\n"
     ]
    }
   ],
   "source": [
    "#Multiple value of variables\n",
    "x = 30\n",
    "y = 20\n",
    "z = 50\n",
    "t = 10\n",
    "\n",
    "print(x,y,z,t)"
   ]
  },
  {
   "cell_type": "code",
   "execution_count": 7,
   "id": "e82c4081",
   "metadata": {},
   "outputs": [
    {
     "name": "stdout",
     "output_type": "stream",
     "text": [
      "Module :  3\n",
      "<class 'int'>\n"
     ]
    }
   ],
   "source": [
    "#Program to find the type of variable\n",
    "a = 39\n",
    "b = 4\n",
    "\n",
    "c = a % b\n",
    "print(\"Module : \",c)\n",
    "print(type(c))"
   ]
  },
  {
   "cell_type": "code",
   "execution_count": 10,
   "id": "7afed7bf",
   "metadata": {},
   "outputs": [
    {
     "name": "stdout",
     "output_type": "stream",
     "text": [
      "Type a number : 10\n",
      "type another number10\n",
      "Number is :  True\n"
     ]
    }
   ],
   "source": [
    "# Program that takes two integer value from user and \n",
    "#check both the values are same\n",
    "\n",
    "a = int(input(\"Type a number : \"));\n",
    "b = int(input(\"type another number\"));\n",
    "\n",
    "c = a == b;\n",
    "print(\"Number is : \",c)"
   ]
  },
  {
   "cell_type": "code",
   "execution_count": null,
   "id": "079c9a5e",
   "metadata": {},
   "outputs": [],
   "source": []
  },
  {
   "cell_type": "code",
   "execution_count": null,
   "id": "f6758969",
   "metadata": {},
   "outputs": [],
   "source": []
  }
 ],
 "metadata": {
  "kernelspec": {
   "display_name": "Python 3 (ipykernel)",
   "language": "python",
   "name": "python3"
  },
  "language_info": {
   "codemirror_mode": {
    "name": "ipython",
    "version": 3
   },
   "file_extension": ".py",
   "mimetype": "text/x-python",
   "name": "python",
   "nbconvert_exporter": "python",
   "pygments_lexer": "ipython3",
   "version": "3.10.7"
  }
 },
 "nbformat": 4,
 "nbformat_minor": 5
}
