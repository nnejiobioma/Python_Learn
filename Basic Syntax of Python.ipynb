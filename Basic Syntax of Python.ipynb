{
 "cells": [
  {
   "cell_type": "code",
   "execution_count": 1,
   "id": "2f061bea",
   "metadata": {},
   "outputs": [
    {
     "name": "stdout",
     "output_type": "stream",
     "text": [
      "Hello world\n"
     ]
    }
   ],
   "source": [
    "#Print statement\n",
    "print(\"Hello world\")"
   ]
  },
  {
   "cell_type": "code",
   "execution_count": 7,
   "id": "b0686d97",
   "metadata": {},
   "outputs": [
    {
     "name": "stdout",
     "output_type": "stream",
     "text": [
      "<class 'int'>\n",
      "<class 'float'>\n",
      "<class 'str'>\n"
     ]
    }
   ],
   "source": [
    "#type function \n",
    "a = 12\n",
    "print(type(a))\n",
    "\n",
    "b = 12.5\n",
    "print(type(b))\n",
    "\n",
    "c = \"python\"\n",
    "print(type(c))"
   ]
  },
  {
   "cell_type": "code",
   "execution_count": 8,
   "id": "6d3561f8",
   "metadata": {},
   "outputs": [
    {
     "name": "stdout",
     "output_type": "stream",
     "text": [
      "What is your first name :Obioma\n",
      "What is your middle name :Johnson\n",
      "what is your last nameNneji\n",
      "\n",
      "Your names are:  Obioma Johnson Nneji\n"
     ]
    }
   ],
   "source": [
    "#input (collects user input)\n",
    "\n",
    "a = input(\"What is your first name :\")\n",
    "b = input(\"What is your middle name :\")\n",
    "c = input(\"what is your last name\")\n",
    "\n",
    "print(\"\\nYour names are: \",a ,b ,c)"
   ]
  },
  {
   "cell_type": "code",
   "execution_count": null,
   "id": "c0d1b528",
   "metadata": {},
   "outputs": [],
   "source": []
  },
  {
   "cell_type": "code",
   "execution_count": null,
   "id": "cfd9119e",
   "metadata": {},
   "outputs": [],
   "source": []
  }
 ],
 "metadata": {
  "kernelspec": {
   "display_name": "Python 3 (ipykernel)",
   "language": "python",
   "name": "python3"
  },
  "language_info": {
   "codemirror_mode": {
    "name": "ipython",
    "version": 3
   },
   "file_extension": ".py",
   "mimetype": "text/x-python",
   "name": "python",
   "nbconvert_exporter": "python",
   "pygments_lexer": "ipython3",
   "version": "3.10.7"
  }
 },
 "nbformat": 4,
 "nbformat_minor": 5
}
