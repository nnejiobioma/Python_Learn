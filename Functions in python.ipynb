{
 "cells": [
  {
   "cell_type": "markdown",
   "id": "9e1241c3",
   "metadata": {},
   "source": [
    "# Inbuilt function"
   ]
  },
  {
   "cell_type": "code",
   "execution_count": 1,
   "id": "3fc1ca46",
   "metadata": {},
   "outputs": [
    {
     "name": "stdout",
     "output_type": "stream",
     "text": [
      "Hello world\n"
     ]
    }
   ],
   "source": [
    "#Print() function\n",
    "\n",
    "print(\"Hello world\")"
   ]
  },
  {
   "cell_type": "code",
   "execution_count": 4,
   "id": "be01a976",
   "metadata": {},
   "outputs": [
    {
     "name": "stdout",
     "output_type": "stream",
     "text": [
      "1\n",
      "2\n",
      "3\n",
      "4\n",
      "5\n",
      "6\n",
      "7\n",
      "8\n",
      "9\n"
     ]
    }
   ],
   "source": [
    "# Range function\n",
    "\n",
    "for i in range(1,10):\n",
    "    print(i)"
   ]
  },
  {
   "cell_type": "code",
   "execution_count": 5,
   "id": "21229ffd",
   "metadata": {},
   "outputs": [
    {
     "name": "stdout",
     "output_type": "stream",
     "text": [
      "123.24\n"
     ]
    }
   ],
   "source": [
    "# Round() Function\n",
    "\n",
    "x = round(123.235426267282, 2)\n",
    "print(x)"
   ]
  },
  {
   "cell_type": "code",
   "execution_count": 6,
   "id": "b02656ba",
   "metadata": {},
   "outputs": [
    {
     "name": "stdout",
     "output_type": "stream",
     "text": [
      "9\n"
     ]
    }
   ],
   "source": [
    "# len() function\n",
    "\n",
    "x =[1,2,3,4,5,6,7,8,8]\n",
    "print(len(x))"
   ]
  },
  {
   "cell_type": "markdown",
   "id": "1bd7a5c0",
   "metadata": {},
   "source": [
    "# User define function"
   ]
  },
  {
   "cell_type": "code",
   "execution_count": 7,
   "id": "9532eb17",
   "metadata": {},
   "outputs": [
    {
     "name": "stdout",
     "output_type": "stream",
     "text": [
      "Hello python is sweet\n"
     ]
    }
   ],
   "source": [
    "# Creating a function\n",
    "\n",
    "def myFunction():\n",
    "    print(\"Hello python is sweet\")\n",
    "    \n",
    "\n",
    "#calling the function\n",
    "myFunction()"
   ]
  },
  {
   "cell_type": "code",
   "execution_count": 8,
   "id": "a5531511",
   "metadata": {},
   "outputs": [
    {
     "name": "stdout",
     "output_type": "stream",
     "text": [
      "Value of A is :  20\n"
     ]
    }
   ],
   "source": [
    "# Passing one argument to a function\n",
    "\n",
    "def myFunction(a):#Function defined\n",
    "    print(\"Value of A is : \",a)\n",
    "    \n",
    "\n",
    "#calling function and assigning value to the argument\n",
    "myFunction(20)"
   ]
  },
  {
   "cell_type": "code",
   "execution_count": 15,
   "id": "f47f2a29",
   "metadata": {},
   "outputs": [
    {
     "name": "stdout",
     "output_type": "stream",
     "text": [
      "Value passed to the two arguent is :  10 20\n"
     ]
    }
   ],
   "source": [
    "# PASSING TWO OR MORE ARGUMENTS TO A FUNCTION\n",
    "\n",
    "def myfunction2(a,b):#two arguments passed\n",
    "    print(\"Value passed to the two arguent is : \",a ,b)\n",
    "    \n",
    "#calling function\n",
    "myfunction2(10,20)"
   ]
  },
  {
   "cell_type": "code",
   "execution_count": 16,
   "id": "c53ef94c",
   "metadata": {},
   "outputs": [
    {
     "name": "stdout",
     "output_type": "stream",
     "text": [
      "50\n"
     ]
    }
   ],
   "source": [
    "def myFunction3(a,b):\n",
    "    x = a + b\n",
    "    print(x)\n",
    "    \n",
    "myFunction3(20,30)"
   ]
  },
  {
   "cell_type": "markdown",
   "id": "83ef2904",
   "metadata": {},
   "source": [
    "# Keyword Argument function Call"
   ]
  },
  {
   "cell_type": "code",
   "execution_count": 19,
   "id": "a016813c",
   "metadata": {},
   "outputs": [
    {
     "name": "stdout",
     "output_type": "stream",
     "text": [
      "Youngest child is : Aboy\n"
     ]
    }
   ],
   "source": [
    "def myFunction4(child1,child2,child3,child4):\n",
    "    print(\"Youngest child is : \"+child3)\n",
    "    \n",
    "#calling function with an argument\n",
    "myFunction4(child1 = \"musa\",child2 = \"tunde\",child3 = \"Aboy\",child4 = \"babatunde\")\n"
   ]
  },
  {
   "cell_type": "markdown",
   "id": "4538a495",
   "metadata": {},
   "source": [
    "# Passing default parameter with value and function"
   ]
  },
  {
   "cell_type": "code",
   "execution_count": 22,
   "id": "2bca0d26",
   "metadata": {},
   "outputs": [
    {
     "name": "stdout",
     "output_type": "stream",
     "text": [
      "I am from  Osogbo\n",
      "I am from  Enugu\n",
      "I am from  Delta\n",
      "I am from  Anambra\n",
      "I am from  Delta\n",
      "I am from  Lagos\n"
     ]
    }
   ],
   "source": [
    "def myfunction5(state=\"Delta\"):# passing argument with default parameter value\n",
    "    print(\"I am from  \"+state)\n",
    "\n",
    "    \n",
    "#Calling multiple functions\n",
    "myfunction5(\"Osogbo\")\n",
    "myfunction5(\"Enugu\")\n",
    "myfunction5()\n",
    "myfunction5(\"Anambra\")\n",
    "myfunction5()\n",
    "myfunction5(\"Lagos\")"
   ]
  },
  {
   "cell_type": "code",
   "execution_count": null,
   "id": "312552d2",
   "metadata": {},
   "outputs": [],
   "source": []
  }
 ],
 "metadata": {
  "kernelspec": {
   "display_name": "Python 3 (ipykernel)",
   "language": "python",
   "name": "python3"
  },
  "language_info": {
   "codemirror_mode": {
    "name": "ipython",
    "version": 3
   },
   "file_extension": ".py",
   "mimetype": "text/x-python",
   "name": "python",
   "nbconvert_exporter": "python",
   "pygments_lexer": "ipython3",
   "version": "3.10.7"
  }
 },
 "nbformat": 4,
 "nbformat_minor": 5
}
