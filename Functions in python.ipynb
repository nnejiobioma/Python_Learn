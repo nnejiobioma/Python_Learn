{
 "cells": [
  {
   "cell_type": "markdown",
   "id": "249894da",
   "metadata": {},
   "source": [
    "# Inbuilt function"
   ]
  },
  {
   "cell_type": "code",
   "execution_count": 1,
   "id": "37d75ab7",
   "metadata": {},
   "outputs": [
    {
     "name": "stdout",
     "output_type": "stream",
     "text": [
      "Hello world\n"
     ]
    }
   ],
   "source": [
    "#Print() function\n",
    "\n",
    "print(\"Hello world\")"
   ]
  },
  {
   "cell_type": "code",
   "execution_count": 4,
   "id": "3a121c5a",
   "metadata": {},
   "outputs": [
    {
     "name": "stdout",
     "output_type": "stream",
     "text": [
      "1\n",
      "2\n",
      "3\n",
      "4\n",
      "5\n",
      "6\n",
      "7\n",
      "8\n",
      "9\n"
     ]
    }
   ],
   "source": [
    "# Range function\n",
    "\n",
    "for i in range(1,10):\n",
    "    print(i)"
   ]
  },
  {
   "cell_type": "code",
   "execution_count": 5,
   "id": "0668ff21",
   "metadata": {},
   "outputs": [
    {
     "name": "stdout",
     "output_type": "stream",
     "text": [
      "123.24\n"
     ]
    }
   ],
   "source": [
    "# Round() Function\n",
    "\n",
    "x = round(123.235426267282, 2)\n",
    "print(x)"
   ]
  },
  {
   "cell_type": "code",
   "execution_count": 6,
   "id": "6bbc0950",
   "metadata": {},
   "outputs": [
    {
     "name": "stdout",
     "output_type": "stream",
     "text": [
      "9\n"
     ]
    }
   ],
   "source": [
    "# len() function\n",
    "\n",
    "x =[1,2,3,4,5,6,7,8,8]\n",
    "print(len(x))"
   ]
  },
  {
   "cell_type": "markdown",
   "id": "40f6df7e",
   "metadata": {},
   "source": [
    "# User define function"
   ]
  },
  {
   "cell_type": "code",
   "execution_count": 7,
   "id": "c53d3ceb",
   "metadata": {},
   "outputs": [
    {
     "name": "stdout",
     "output_type": "stream",
     "text": [
      "Hello python is sweet\n"
     ]
    }
   ],
   "source": [
    "# Creating a function\n",
    "\n",
    "def myFunction():\n",
    "    print(\"Hello python is sweet\")\n",
    "    \n",
    "\n",
    "#calling the function\n",
    "myFunction()"
   ]
  },
  {
   "cell_type": "code",
   "execution_count": 8,
   "id": "59f4468c",
   "metadata": {},
   "outputs": [
    {
     "name": "stdout",
     "output_type": "stream",
     "text": [
      "Value of A is :  20\n"
     ]
    }
   ],
   "source": [
    "# Passing one argument to a function\n",
    "\n",
    "def myFunction(a):#Function defined\n",
    "    print(\"Value of A is : \",a)\n",
    "    \n",
    "\n",
    "#calling function and assigning value to the argument\n",
    "myFunction(20)"
   ]
  },
  {
   "cell_type": "code",
   "execution_count": 15,
   "id": "2a177d99",
   "metadata": {},
   "outputs": [
    {
     "name": "stdout",
     "output_type": "stream",
     "text": [
      "Value passed to the two arguent is :  10 20\n"
     ]
    }
   ],
   "source": [
    "# PASSING TWO OR MORE ARGUMENTS TO A FUNCTION\n",
    "\n",
    "def myfunction2(a,b):#two arguments passed\n",
    "    print(\"Value passed to the two arguent is : \",a ,b)\n",
    "    \n",
    "#calling function\n",
    "myfunction2(10,20)"
   ]
  },
  {
   "cell_type": "code",
   "execution_count": 16,
   "id": "cdc5eaae",
   "metadata": {},
   "outputs": [
    {
     "name": "stdout",
     "output_type": "stream",
     "text": [
      "50\n"
     ]
    }
   ],
   "source": [
    "def myFunction3(a,b):\n",
    "    x = a + b\n",
    "    print(x)\n",
    "    \n",
    "myFunction3(20,30)"
   ]
  },
  {
   "cell_type": "markdown",
   "id": "4efc0ae0",
   "metadata": {},
   "source": [
    "# Keyword Argument function Call"
   ]
  },
  {
   "cell_type": "code",
   "execution_count": 19,
   "id": "89d77afa",
   "metadata": {},
   "outputs": [
    {
     "name": "stdout",
     "output_type": "stream",
     "text": [
      "Youngest child is : Aboy\n"
     ]
    }
   ],
   "source": [
    "def myFunction4(child1,child2,child3,child4):\n",
    "    print(\"Youngest child is : \"+child3)\n",
    "    \n",
    "#calling function with an argument\n",
    "myFunction4(child1 = \"musa\",child2 = \"tunde\",child3 = \"Aboy\",child4 = \"babatunde\")\n"
   ]
  },
  {
   "cell_type": "markdown",
   "id": "6bff1286",
   "metadata": {},
   "source": [
    "# Passing default parameter with value and function"
   ]
  },
  {
   "cell_type": "code",
   "execution_count": 22,
   "id": "f702dbbd",
   "metadata": {},
   "outputs": [
    {
     "name": "stdout",
     "output_type": "stream",
     "text": [
      "I am from  Osogbo\n",
      "I am from  Enugu\n",
      "I am from  Delta\n",
      "I am from  Anambra\n",
      "I am from  Delta\n",
      "I am from  Lagos\n"
     ]
    }
   ],
   "source": [
    "def myfunction5(state=\"Delta\"):# passing argument with default parameter value\n",
    "    print(\"I am from  \"+state)\n",
    "\n",
    "    \n",
    "#Calling multiple functions\n",
    "myfunction5(\"Osogbo\")\n",
    "myfunction5(\"Enugu\")\n",
    "myfunction5()\n",
    "myfunction5(\"Anambra\")\n",
    "myfunction5()\n",
    "myfunction5(\"Lagos\")"
   ]
  },
  {
   "cell_type": "markdown",
   "id": "38215cb1",
   "metadata": {},
   "source": [
    "# Passing a list into function"
   ]
  },
  {
   "cell_type": "code",
   "execution_count": null,
   "id": "feecc521",
   "metadata": {},
   "outputs": [],
   "source": []
  },
  {
   "cell_type": "code",
   "execution_count": 40,
   "id": "5f883aa1",
   "metadata": {},
   "outputs": [
    {
     "name": "stdout",
     "output_type": "stream",
     "text": [
      "9\n",
      "<class 'list'>\n",
      "1\n",
      "2\n",
      "3\n",
      "4\n",
      "5\n",
      "6\n",
      "6\n",
      "7\n",
      "8\n"
     ]
    }
   ],
   "source": [
    "#Create a function\n",
    "\n",
    "def myList(fruit):\n",
    "    for i in fruit:\n",
    "        print(i)\n",
    "f = [1,2,3,4,5,6,6,7,8]\n",
    "print(len(f))\n",
    "print(type(f))\n",
    "\n",
    "#calling function\n",
    "myList(f)"
   ]
  },
  {
   "cell_type": "markdown",
   "id": "a8362020",
   "metadata": {},
   "source": [
    "# How to return values in function"
   ]
  },
  {
   "cell_type": "code",
   "execution_count": 45,
   "id": "4fb0f327",
   "metadata": {},
   "outputs": [
    {
     "name": "stdout",
     "output_type": "stream",
     "text": [
      "100\n",
      "125\n",
      "250\n"
     ]
    },
    {
     "data": {
      "text/plain": [
       "150"
      ]
     },
     "execution_count": 45,
     "metadata": {},
     "output_type": "execute_result"
    }
   ],
   "source": [
    "# Creating a function\n",
    "def myReturn(x):\n",
    "    return 5*x #rutun created to multilpy x value by 5\n",
    "\n",
    "\n",
    "#calling the function\n",
    "print(myReturn(20))\n",
    "print(myReturn(25))\n",
    "print(myReturn(50))\n",
    "\n",
    "myReturn(30)"
   ]
  },
  {
   "cell_type": "markdown",
   "id": "d425ecda",
   "metadata": {},
   "source": [
    "# Recursion Funtion(Function that calls itself)"
   ]
  },
  {
   "cell_type": "code",
   "execution_count": 47,
   "id": "d6d402eb",
   "metadata": {},
   "outputs": [],
   "source": [
    "# Calling the function\n",
    "\n",
    "def factorial(p):\n",
    "    if p == 1:\n",
    "        return 1\n",
    "    else:              #Function call\n",
    "        return(p*factorial(p-1))\n",
    "    num = int(input(\"Num : \")) #getting users input\n",
    "    print(\"The factorial of \",num,\"is : \",factorial(num))\n",
    "    "
   ]
  },
  {
   "cell_type": "code",
   "execution_count": 49,
   "id": "838f93d9",
   "metadata": {},
   "outputs": [],
   "source": [
    "def sum(b):\n",
    "    if b == 1:\n",
    "        return 1\n",
    "    else:\n",
    "        return(b*sum(b-1))\n",
    "    z = int(input(\"Num : \"))\n",
    "    print(\"The factorial of \",z,\"is : \",sum(z))"
   ]
  },
  {
   "cell_type": "markdown",
   "id": "44755354",
   "metadata": {},
   "source": [
    "# Anonymous function(lambda function)"
   ]
  },
  {
   "cell_type": "code",
   "execution_count": 52,
   "id": "b499dd98",
   "metadata": {},
   "outputs": [
    {
     "name": "stdout",
     "output_type": "stream",
     "text": [
      "50\n"
     ]
    }
   ],
   "source": [
    "#lambda with one argument\n",
    "x = lambda a: a + 20\n",
    "print(x(30))"
   ]
  },
  {
   "cell_type": "code",
   "execution_count": 53,
   "id": "74d585e6",
   "metadata": {},
   "outputs": [
    {
     "name": "stdout",
     "output_type": "stream",
     "text": [
      "50\n"
     ]
    }
   ],
   "source": [
    "# lambda with multiple arguments \n",
    "z = lambda a,b: a+b\n",
    "print(z(20,30))"
   ]
  },
  {
   "cell_type": "markdown",
   "id": "3f906ab3",
   "metadata": {},
   "source": [
    "# Global Variable"
   ]
  },
  {
   "cell_type": "code",
   "execution_count": 55,
   "id": "3835818b",
   "metadata": {},
   "outputs": [
    {
     "name": "stdout",
     "output_type": "stream",
     "text": [
      "5\n"
     ]
    }
   ],
   "source": [
    "# global variable are declaered outside a function and can be used anywhere in the code\n",
    "\n",
    "z = 5 global #global variable declared\n",
    "def myFunction6():\n",
    "    global z #calling the global variable\n",
    "    print(z) # printing the global variale\n",
    "\n",
    "myFunction6() # calling function "
   ]
  },
  {
   "cell_type": "code",
   "execution_count": 75,
   "id": "b429d6c6",
   "metadata": {},
   "outputs": [
    {
     "name": "stdout",
     "output_type": "stream",
     "text": [
      "200\n",
      "30\n"
     ]
    }
   ],
   "source": [
    "m = 10\n",
    "\n",
    "def dell():\n",
    "    global m\n",
    "    c = m * 20\n",
    "    print(c)\n",
    "    \n",
    "dell()\n",
    "\n",
    "\n",
    "def fun3():\n",
    "    global m\n",
    "    h = s + 20\n",
    "    print(h)\n",
    "fun3()"
   ]
  },
  {
   "cell_type": "code",
   "execution_count": 76,
   "id": "a2dc0a95",
   "metadata": {},
   "outputs": [
    {
     "name": "stdout",
     "output_type": "stream",
     "text": [
      "S is equal to 10\n",
      "30\n"
     ]
    }
   ],
   "source": [
    "s = 10\n",
    "\n",
    "def fun():\n",
    "    global s\n",
    "if s == 10:\n",
    "    print(\"S is equal to 10\")\n",
    "else:\n",
    "    print(\"S is not equal to 10\")\n",
    "\n",
    "fun()\n",
    "\n",
    "\n",
    "def fun3():\n",
    "    global s\n",
    "    h = s + 20\n",
    "    print(h)\n",
    "fun3()\n",
    "    "
   ]
  },
  {
   "cell_type": "code",
   "execution_count": 61,
   "id": "26879c73",
   "metadata": {},
   "outputs": [],
   "source": [
    "# def factorial(p):\n",
    "#     if p == 1:\n",
    "#         return 1\n",
    "#     else:              #Function call\n",
    "#         return(p*factorial(p-1))\n",
    "#     num = int(input(\"Num : \")) #getting users input\n",
    "#     print(\"The factorial of \",num,\"is : \",factorial(num))\n",
    "\n",
    "g = 5\n",
    "\n",
    "def factorial():\n",
    "    global g\n",
    "    if g == 1:\n",
    "        return 1\n",
    "    else:\n",
    "        return(g*factorial(g-1))\n",
    "    print(\"Factorial \",g,\"is : \",factorial(g))"
   ]
  },
  {
   "cell_type": "markdown",
   "id": "ac1ac6c1",
   "metadata": {},
   "source": [
    "# Local varriable"
   ]
  },
  {
   "cell_type": "code",
   "execution_count": 71,
   "id": "d146a21a",
   "metadata": {},
   "outputs": [
    {
     "name": "stdout",
     "output_type": "stream",
     "text": [
      "50\n"
     ]
    }
   ],
   "source": [
    "# This is used in the function where it is called and cannot be usede outside of its function\n",
    "\n",
    "def fun1(x,y):\n",
    "    fun1 = x + y\n",
    "    return(fun1)\n",
    "    \n",
    "print(fun1(20,30))"
   ]
  },
  {
   "cell_type": "code",
   "execution_count": null,
   "id": "8df6b7f2",
   "metadata": {},
   "outputs": [],
   "source": []
  },
  {
   "cell_type": "code",
   "execution_count": null,
   "id": "180c2b7b",
   "metadata": {},
   "outputs": [],
   "source": []
  },
  {
   "cell_type": "code",
   "execution_count": null,
   "id": "1875ae9e",
   "metadata": {},
   "outputs": [],
   "source": []
  },
  {
   "cell_type": "code",
   "execution_count": null,
   "id": "339b45ac",
   "metadata": {},
   "outputs": [],
   "source": []
  },
  {
   "cell_type": "code",
   "execution_count": null,
   "id": "6564e737",
   "metadata": {},
   "outputs": [],
   "source": []
  },
  {
   "cell_type": "code",
   "execution_count": null,
   "id": "c496b313",
   "metadata": {},
   "outputs": [],
   "source": []
  },
  {
   "cell_type": "code",
   "execution_count": null,
   "id": "63a0006c",
   "metadata": {},
   "outputs": [],
   "source": []
  }
 ],
 "metadata": {
  "kernelspec": {
   "display_name": "Python 3 (ipykernel)",
   "language": "python",
   "name": "python3"
  },
  "language_info": {
   "codemirror_mode": {
    "name": "ipython",
    "version": 3
   },
   "file_extension": ".py",
   "mimetype": "text/x-python",
   "name": "python",
   "nbconvert_exporter": "python",
   "pygments_lexer": "ipython3",
   "version": "3.10.7"
  }
 },
 "nbformat": 4,
 "nbformat_minor": 5
}
