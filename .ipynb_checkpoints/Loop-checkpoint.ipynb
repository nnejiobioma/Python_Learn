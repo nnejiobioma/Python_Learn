{
 "cells": [
  {
   "cell_type": "markdown",
   "id": "e6f94a51",
   "metadata": {},
   "source": [
    "# While loop"
   ]
  },
  {
   "cell_type": "code",
   "execution_count": 5,
   "id": "4959a35c",
   "metadata": {},
   "outputs": [
    {
     "name": "stdout",
     "output_type": "stream",
     "text": [
      "N : 5\n",
      "Sum :  5\n",
      "Sum :  9\n",
      "Sum :  12\n",
      "Sum :  14\n",
      "Sum :  15\n",
      "Bye\n"
     ]
    }
   ],
   "source": [
    "# 5,9,12,14,15\n",
    "\n",
    "sum = 0\n",
    "n = int(input(\"N : \"))\n",
    "while n > 0:\n",
    "    sum = sum + n\n",
    "    n -= 1\n",
    "    print(\"Sum : \",sum)\n",
    "print(\"Bye\")"
   ]
  },
  {
   "cell_type": "code",
   "execution_count": 4,
   "id": "138a288b",
   "metadata": {},
   "outputs": [
    {
     "name": "stdout",
     "output_type": "stream",
     "text": [
      "N : 3\n",
      "Sum :  3\n",
      "Sum :  5\n",
      "Sum :  6\n",
      "Gun\n"
     ]
    }
   ],
   "source": [
    "sum = 0\n",
    "i = int(input(\"N : \"))\n",
    "while i > 0:\n",
    "    sum = sum+i\n",
    "    i-=1\n",
    "    print(\"Sum : \",sum)\n",
    "print(\"Gun\")"
   ]
  },
  {
   "cell_type": "code",
   "execution_count": null,
   "id": "e1099adc",
   "metadata": {},
   "outputs": [],
   "source": []
  },
  {
   "cell_type": "code",
   "execution_count": null,
   "id": "35e1152c",
   "metadata": {},
   "outputs": [],
   "source": [
    "\n"
   ]
  },
  {
   "cell_type": "code",
   "execution_count": null,
   "id": "02cad33c",
   "metadata": {},
   "outputs": [],
   "source": []
  },
  {
   "cell_type": "code",
   "execution_count": null,
   "id": "c53eced0",
   "metadata": {},
   "outputs": [],
   "source": []
  },
  {
   "cell_type": "code",
   "execution_count": null,
   "id": "a6792c9a",
   "metadata": {},
   "outputs": [],
   "source": []
  }
 ],
 "metadata": {
  "kernelspec": {
   "display_name": "Python 3 (ipykernel)",
   "language": "python",
   "name": "python3"
  },
  "language_info": {
   "codemirror_mode": {
    "name": "ipython",
    "version": 3
   },
   "file_extension": ".py",
   "mimetype": "text/x-python",
   "name": "python",
   "nbconvert_exporter": "python",
   "pygments_lexer": "ipython3",
   "version": "3.10.7"
  }
 },
 "nbformat": 4,
 "nbformat_minor": 5
}
