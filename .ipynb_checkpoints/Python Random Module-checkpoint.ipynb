{
 "cells": [
  {
   "cell_type": "markdown",
   "id": "79829994",
   "metadata": {},
   "source": [
    "# Random Numbers "
   ]
  },
  {
   "cell_type": "code",
   "execution_count": null,
   "id": "bf7cbea9",
   "metadata": {},
   "outputs": [],
   "source": [
    "# How to import random numbers operators\n",
    "# from random import functionName\n"
   ]
  },
  {
   "cell_type": "markdown",
   "id": "efbb967c",
   "metadata": {},
   "source": [
    " # Choice()"
   ]
  },
  {
   "cell_type": "code",
   "execution_count": 6,
   "id": "cf71bbb2",
   "metadata": {},
   "outputs": [
    {
     "name": "stdout",
     "output_type": "stream",
     "text": [
      "3\n"
     ]
    }
   ],
   "source": [
    "from random import choice\n",
    "\n",
    "l1 = [1,2,3,4,5,6,7,8]\n",
    "print(choice(l1))"
   ]
  },
  {
   "cell_type": "markdown",
   "id": "ab64c072",
   "metadata": {},
   "source": [
    "# Randint()"
   ]
  },
  {
   "cell_type": "code",
   "execution_count": 8,
   "id": "9b0faa94",
   "metadata": {},
   "outputs": [
    {
     "name": "stdout",
     "output_type": "stream",
     "text": [
      "Your otp is :  68675615\n"
     ]
    }
   ],
   "source": [
    "from random import randint\n",
    "\n",
    "otp = randint(10000,99999999)\n",
    "print(\"Your otp is : \",otp)"
   ]
  },
  {
   "cell_type": "markdown",
   "id": "61df5df7",
   "metadata": {},
   "source": [
    "# Shuffle()"
   ]
  },
  {
   "cell_type": "code",
   "execution_count": 12,
   "id": "e5b15e17",
   "metadata": {},
   "outputs": [
    {
     "name": "stdout",
     "output_type": "stream",
     "text": [
      "[7, 2, 7, 3, 1, 6, 5, 4]\n"
     ]
    }
   ],
   "source": [
    "from random import shuffle\n",
    "\n",
    "l2 = [1,2,3,4,5,6,7,7]\n",
    "shuffle(l2)\n",
    "print(l2)"
   ]
  },
  {
   "cell_type": "code",
   "execution_count": null,
   "id": "61d779d8",
   "metadata": {},
   "outputs": [],
   "source": []
  },
  {
   "cell_type": "code",
   "execution_count": null,
   "id": "c6403e2c",
   "metadata": {},
   "outputs": [],
   "source": []
  },
  {
   "cell_type": "code",
   "execution_count": null,
   "id": "dc08abab",
   "metadata": {},
   "outputs": [],
   "source": []
  }
 ],
 "metadata": {
  "kernelspec": {
   "display_name": "Python 3 (ipykernel)",
   "language": "python",
   "name": "python3"
  },
  "language_info": {
   "codemirror_mode": {
    "name": "ipython",
    "version": 3
   },
   "file_extension": ".py",
   "mimetype": "text/x-python",
   "name": "python",
   "nbconvert_exporter": "python",
   "pygments_lexer": "ipython3",
   "version": "3.10.7"
  }
 },
 "nbformat": 4,
 "nbformat_minor": 5
}
