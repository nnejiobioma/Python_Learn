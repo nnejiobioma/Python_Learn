{
 "cells": [
  {
   "cell_type": "markdown",
   "id": "3d29b004",
   "metadata": {},
   "source": [
    "# Break Statement"
   ]
  },
  {
   "cell_type": "code",
   "execution_count": 3,
   "id": "4a1da41f",
   "metadata": {},
   "outputs": [
    {
     "name": "stdout",
     "output_type": "stream",
     "text": [
      "Current letter :  P\n",
      "Current letter :  y\n",
      "Current letter :  t\n",
      "Current letter :  h\n",
      "bye\n"
     ]
    }
   ],
   "source": [
    "#Using break statement\n",
    "\n",
    "for letter in \"Python\":\n",
    "    if letter == \"o\":\n",
    "#Break statement is used here\n",
    "        break\n",
    "    print(\"Current letter : \",letter)\n",
    "print(\"bye\")"
   ]
  },
  {
   "cell_type": "code",
   "execution_count": 7,
   "id": "2f877dec",
   "metadata": {},
   "outputs": [
    {
     "name": "stdout",
     "output_type": "stream",
     "text": [
      "Current number :  1\n",
      "Current number :  2\n",
      "Current number :  3\n",
      "Current number :  4\n",
      "Current number :  5\n",
      "Current number :  6\n",
      "End\n"
     ]
    }
   ],
   "source": [
    "for  j in [1,2,3,4,5,6]:\n",
    "    if j >= 7:\n",
    "        break\n",
    "    print(\"Current number : \", j)\n",
    "print(\"End\")"
   ]
  },
  {
   "cell_type": "markdown",
   "id": "1b8d09e3",
   "metadata": {},
   "source": [
    "# Continue Statement"
   ]
  },
  {
   "cell_type": "code",
   "execution_count": 18,
   "id": "34a6942b",
   "metadata": {},
   "outputs": [
    {
     "name": "stdout",
     "output_type": "stream",
     "text": [
      "i is skipped :  S\n",
      "i is skipped :  t\n",
      "i is skipped :  a\n",
      "i is skipped :  n\n",
      "Wow\n"
     ]
    }
   ],
   "source": [
    "# working with continue statement\n",
    "\n",
    "for i in \"Stain\":\n",
    "    if i == \"i\":\n",
    "        continue\n",
    "    print(\"i is skipped : \",i)\n",
    "\n",
    "print(\"Wow\")"
   ]
  },
  {
   "cell_type": "code",
   "execution_count": 39,
   "id": "53daaf85",
   "metadata": {},
   "outputs": [
    {
     "name": "stdout",
     "output_type": "stream",
     "text": [
      "Current Code :  B\n",
      "Current Code :  l\n",
      "Current Code :  o\n",
      "Passed code\n",
      "Current Code :  c\n",
      "Current Code :  k\n",
      "END OF CODE\n"
     ]
    }
   ],
   "source": [
    "for j in \"Block\":\n",
    "    if j == \"c\":\n",
    "        pass\n",
    "        print(\"Passed code\")\n",
    "    print(\"Current Code : \", j)\n",
    "\n",
    "print(\"END OF CODE\")"
   ]
  },
  {
   "cell_type": "code",
   "execution_count": null,
   "id": "e3c64106",
   "metadata": {},
   "outputs": [],
   "source": []
  },
  {
   "cell_type": "code",
   "execution_count": null,
   "id": "ce682940",
   "metadata": {},
   "outputs": [],
   "source": []
  }
 ],
 "metadata": {
  "kernelspec": {
   "display_name": "Python 3 (ipykernel)",
   "language": "python",
   "name": "python3"
  },
  "language_info": {
   "codemirror_mode": {
    "name": "ipython",
    "version": 3
   },
   "file_extension": ".py",
   "mimetype": "text/x-python",
   "name": "python",
   "nbconvert_exporter": "python",
   "pygments_lexer": "ipython3",
   "version": "3.10.7"
  }
 },
 "nbformat": 4,
 "nbformat_minor": 5
}
