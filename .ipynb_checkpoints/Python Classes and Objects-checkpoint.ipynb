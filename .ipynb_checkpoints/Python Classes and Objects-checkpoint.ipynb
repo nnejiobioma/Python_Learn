{
 "cells": [
  {
   "cell_type": "markdown",
   "id": "c76cd617",
   "metadata": {},
   "source": [
    "# How to create a class"
   ]
  },
  {
   "cell_type": "code",
   "execution_count": 13,
   "id": "2ca04f4c",
   "metadata": {},
   "outputs": [],
   "source": [
    "class my_class: #class declared \n",
    "    x = 5 #class property or body \n",
    "    "
   ]
  },
  {
   "cell_type": "markdown",
   "id": "9942e628",
   "metadata": {},
   "source": [
    "# calling a class through object"
   ]
  },
  {
   "cell_type": "code",
   "execution_count": null,
   "id": "b08bdfe5",
   "metadata": {},
   "outputs": [],
   "source": [
    "class my_class: #class declared \n",
    "    x = 5 #class property or body \n",
    "    \n",
    "m1 = my_class() #class object used to call the class\n",
    "print(m1.x) # printing the property of the class"
   ]
  },
  {
   "cell_type": "markdown",
   "id": "8f546c29",
   "metadata": {},
   "source": [
    "# Calling a function by object\n",
    "    "
   ]
  },
  {
   "cell_type": "code",
   "execution_count": 15,
   "id": "eefc92df",
   "metadata": {},
   "outputs": [
    {
     "name": "stdout",
     "output_type": "stream",
     "text": [
      "This is my function class\n"
     ]
    }
   ],
   "source": [
    "class myclass:\n",
    "    def my_function(self):\n",
    "        print(\"This is my function class\")\n",
    "m1 = myclass()\n",
    "m1.my_function()"
   ]
  },
  {
   "cell_type": "code",
   "execution_count": 21,
   "id": "991d3246",
   "metadata": {},
   "outputs": [
    {
     "name": "stdout",
     "output_type": "stream",
     "text": [
      "Sum of d:  30\n"
     ]
    }
   ],
   "source": [
    "class my_class1:\n",
    "    d = 20 + 10\n",
    "m2 = my_class1()\n",
    "print(\"Sum of d: \",m2.d)"
   ]
  },
  {
   "cell_type": "code",
   "execution_count": 23,
   "id": "84b59091",
   "metadata": {},
   "outputs": [
    {
     "name": "stdout",
     "output_type": "stream",
     "text": [
      "The sum of c :  50\n"
     ]
    }
   ],
   "source": [
    "class class1:\n",
    "    def fun1(self):\n",
    "        a =  20\n",
    "        b = 30\n",
    "        c = a + b\n",
    "        print(\"The sum of c : \",c)\n",
    "m3 = class1()\n",
    "m3.fun1()"
   ]
  },
  {
   "cell_type": "markdown",
   "id": "f9021f4f",
   "metadata": {},
   "source": [
    "# Creating and calling a constructor\n"
   ]
  },
  {
   "cell_type": "code",
   "execution_count": 24,
   "id": "2338a129",
   "metadata": {},
   "outputs": [
    {
     "name": "stdout",
     "output_type": "stream",
     "text": [
      "This is my constructor\n"
     ]
    }
   ],
   "source": [
    "class myclass2:\n",
    "    def __init__(self): #creating the constructor\n",
    "        print(\"This is my constructor\")\n",
    "        \n",
    "intcon = myclass2() # Calling the function that will call the constructior\n",
    "\n",
    "#We do not need to call the constructor it calls itself ones the class is called."
   ]
  },
  {
   "cell_type": "markdown",
   "id": "c527d42b",
   "metadata": {},
   "source": [
    "# Changing the value by object"
   ]
  },
  {
   "cell_type": "code",
   "execution_count": 46,
   "id": "d963de89",
   "metadata": {},
   "outputs": [
    {
     "name": "stdout",
     "output_type": "stream",
     "text": [
      "my name is :  Nneji, My age is :  25\n",
      "My other name is :  obioma, And My new age is :  40\n"
     ]
    },
    {
     "ename": "AttributeError",
     "evalue": "'myclass' object has no attribute 'age'",
     "output_type": "error",
     "traceback": [
      "\u001b[1;31m---------------------------------------------------------------\u001b[0m",
      "\u001b[1;31mAttributeError\u001b[0m                Traceback (most recent call last)",
      "Cell \u001b[1;32mIn[46], line 20\u001b[0m\n\u001b[0;32m     18\u001b[0m \u001b[38;5;66;03m# deleting an object or value\u001b[39;00m\n\u001b[0;32m     19\u001b[0m \u001b[38;5;28;01mdel\u001b[39;00m m1\u001b[38;5;241m.\u001b[39mage\n\u001b[1;32m---> 20\u001b[0m \u001b[38;5;28mprint\u001b[39m(\u001b[38;5;124m\"\u001b[39m\u001b[38;5;124mThis is age \u001b[39m\u001b[38;5;124m\"\u001b[39m,\u001b[43mm1\u001b[49m\u001b[38;5;241;43m.\u001b[39;49m\u001b[43mage\u001b[49m)\n",
      "\u001b[1;31mAttributeError\u001b[0m: 'myclass' object has no attribute 'age'"
     ]
    }
   ],
   "source": [
    "class myclass: #decleared a class\n",
    "    def __init__(self,name,age): # declared a constructor\n",
    "        self.name = name # assined value to the self\n",
    "        self.age = age\n",
    "        \n",
    "    def myfunction(self): #declared a function\n",
    "        print(\"my name is : \"+self.age)\n",
    "        \n",
    "m1 = myclass(\"Nneji\", 25) #created an object by calling myclass and assign two values to it\n",
    "\n",
    "print(\"my name is : \",m1.name + \",\"\" My age is : \",m1.age) # print the value of my class using m1.object\n",
    "\n",
    "#Changing the value using an object\n",
    "m1.age = 40\n",
    "m1.name = \"obioma\"\n",
    "print(\"My other name is : \",m1.name + \",\"\" And My new age is : \",m1.age)\n",
    "\n",
    "# deleting an object or value\n",
    "del m1.age\n",
    "print(\"This is age \",m1.age)"
   ]
  },
  {
   "cell_type": "code",
   "execution_count": 44,
   "id": "e2feac6e",
   "metadata": {},
   "outputs": [
    {
     "data": {
      "text/plain": [
       "30"
      ]
     },
     "execution_count": 44,
     "metadata": {},
     "output_type": "execute_result"
    }
   ],
   "source": [
    "class pclass:\n",
    "    def __init__(self,a,b):\n",
    "        self.a = 50\n",
    "        self.b = 30\n",
    "        \n",
    "    def pfun(self):\n",
    "        print(\"What is going on here\")       \n",
    "        \n",
    "p1 = pclass(10,20)\n",
    "p1.b"
   ]
  },
  {
   "cell_type": "code",
   "execution_count": null,
   "id": "7a7786de",
   "metadata": {},
   "outputs": [],
   "source": []
  },
  {
   "cell_type": "code",
   "execution_count": null,
   "id": "5457b5c1",
   "metadata": {},
   "outputs": [],
   "source": []
  },
  {
   "cell_type": "code",
   "execution_count": null,
   "id": "98a3680b",
   "metadata": {},
   "outputs": [],
   "source": []
  },
  {
   "cell_type": "code",
   "execution_count": null,
   "id": "e27684ed",
   "metadata": {},
   "outputs": [],
   "source": []
  },
  {
   "cell_type": "code",
   "execution_count": null,
   "id": "e8ca5533",
   "metadata": {},
   "outputs": [],
   "source": []
  },
  {
   "cell_type": "code",
   "execution_count": null,
   "id": "c5b8ca57",
   "metadata": {},
   "outputs": [],
   "source": []
  },
  {
   "cell_type": "code",
   "execution_count": null,
   "id": "21b8f80e",
   "metadata": {},
   "outputs": [],
   "source": []
  }
 ],
 "metadata": {
  "kernelspec": {
   "display_name": "Python 3 (ipykernel)",
   "language": "python",
   "name": "python3"
  },
  "language_info": {
   "codemirror_mode": {
    "name": "ipython",
    "version": 3
   },
   "file_extension": ".py",
   "mimetype": "text/x-python",
   "name": "python",
   "nbconvert_exporter": "python",
   "pygments_lexer": "ipython3",
   "version": "3.10.7"
  }
 },
 "nbformat": 4,
 "nbformat_minor": 5
}
