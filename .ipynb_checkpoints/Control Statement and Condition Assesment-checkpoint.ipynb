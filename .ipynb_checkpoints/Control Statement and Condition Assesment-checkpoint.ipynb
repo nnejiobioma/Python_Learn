{
 "cells": [
  {
   "cell_type": "code",
   "execution_count": null,
   "id": "20ebc5a2",
   "metadata": {},
   "outputs": [],
   "source": [
    "# Write a program that accepts a ist from the user and print the alternate element of list\n",
    "\n"
   ]
  },
  {
   "cell_type": "code",
   "execution_count": 17,
   "id": "96d6d79d",
   "metadata": {},
   "outputs": [
    {
     "name": "stdout",
     "output_type": "stream",
     "text": [
      "[1, 2, 3, 4, 5, 6]\n",
      "[1, 2, 4, 5, 6]\n"
     ]
    }
   ],
   "source": [
    "# write a program to remove the element \"3\" from the given list\n",
    "\n",
    "a = [1,2,3,4,5,6]\n",
    "print(a)\n",
    "\n",
    "a.remove(3)\n",
    "print(a)\n"
   ]
  },
  {
   "cell_type": "code",
   "execution_count": 18,
   "id": "72c6d4f8",
   "metadata": {},
   "outputs": [
    {
     "name": "stdout",
     "output_type": "stream",
     "text": [
      "['java', 'Php', '.Net', 'Angular']\n",
      "['java', 'Php', 'Python', '.Net', 'Angular']\n"
     ]
    }
   ],
   "source": [
    "# Write a program to insert the elemet \"Python\" on index 2 in the given list [\"java\",\"Php\",\".Net\",\"Angular\"] \n",
    "\n",
    "a = [\"java\",\"Php\",\".Net\",\"Angular\"]\n",
    "print(a)\n",
    "\n",
    "a.insert(2, \"Python\")\n",
    "print(a)\n"
   ]
  },
  {
   "cell_type": "code",
   "execution_count": 20,
   "id": "9e1fd0fc",
   "metadata": {},
   "outputs": [
    {
     "name": "stdout",
     "output_type": "stream",
     "text": [
      "[1, 2, 3, 4, 5, 6, '20']\n"
     ]
    }
   ],
   "source": [
    "# Write a program that add element in a list using for loop\n",
    "a = [1,2,3,4,5,6]\n",
    "\n",
    "for i in range(1):\n",
    "    a.append(\"20\")\n",
    "print(a)"
   ]
  },
  {
   "cell_type": "code",
   "execution_count": 27,
   "id": "9f6a12a8",
   "metadata": {},
   "outputs": [
    {
     "name": "stdout",
     "output_type": "stream",
     "text": [
      "Main List :('python', 1, 2, 3, 'java', 'A', 'B')\n",
      "Alternate Value :('python', 1, 2, 3, 'java', 'A', 'B')\n",
      "Values one to 5 :  (1, 2, 3, 'java')\n",
      "('python', 1, 2, 3, 'java', 'A', 'B')\n"
     ]
    }
   ],
   "source": [
    "#Write a progran to perform slicing with given tuple (\"python\",1,2,3,\"java\",\"A\",\"B\")\n",
    "\n",
    "a = (\"python\",1,2,3,\"java\",\"A\",\"B\")\n",
    "print(\"Main List :\" + str(a))\n",
    "\n",
    "res = [i for j, i in enumerate(a) if j % 2 != 0]\n",
    "print(\"Alternate Value :\" + str(a))\n",
    "\n",
    "# print value between index 1 to 5\n",
    "print(\"Values one to 5 : \", a[1:5])\n",
    "\n",
    "# rint the value of tuple\n",
    "print(a)"
   ]
  },
  {
   "cell_type": "code",
   "execution_count": 31,
   "id": "e28c5426",
   "metadata": {},
   "outputs": [
    {
     "name": "stdout",
     "output_type": "stream",
     "text": [
      "Tuple count :  8\n"
     ]
    }
   ],
   "source": [
    "# Write program to count element in a given tuple\n",
    "\n",
    "a =(1,2,3,4,5,6,7,8)\n",
    "b = len(a)\n",
    "print(\"Tuple count : \", b)\n",
    "\n"
   ]
  },
  {
   "cell_type": "code",
   "execution_count": 32,
   "id": "7e7f30bb",
   "metadata": {},
   "outputs": [
    {
     "name": "stdout",
     "output_type": "stream",
     "text": [
      "[1, 23, 4, 3, 5]\n"
     ]
    }
   ],
   "source": [
    "# Write a program to convert tuple into list\n",
    "tuple = (1,23,4,3,5)\n",
    "l = list(tuple)\n",
    "print(l)\n"
   ]
  },
  {
   "cell_type": "code",
   "execution_count": 37,
   "id": "d81fc40c",
   "metadata": {},
   "outputs": [
    {
     "name": "stdout",
     "output_type": "stream",
     "text": [
      "<zip object at 0x000002978D562300>\n",
      "{1: 'A', 2: 'B', 3: 'C', 4: 'D', 5: 'E'}\n"
     ]
    }
   ],
   "source": [
    "# Write a program to convert two given list into dictionary. \n",
    "\n",
    "list1 = [1,2,3,4,5]\n",
    "list2 = [\"A\",\"B\",\"C\",\"D\",\"E\"]\n",
    "\n",
    "list_dictionary = zip(list1,list2)\n",
    "print(list_dictionary)\n",
    "\n",
    "print(dict(list_dictionary))\n"
   ]
  },
  {
   "cell_type": "code",
   "execution_count": null,
   "id": "f8ffb751",
   "metadata": {},
   "outputs": [],
   "source": []
  }
 ],
 "metadata": {
  "kernelspec": {
   "display_name": "Python 3 (ipykernel)",
   "language": "python",
   "name": "python3"
  },
  "language_info": {
   "codemirror_mode": {
    "name": "ipython",
    "version": 3
   },
   "file_extension": ".py",
   "mimetype": "text/x-python",
   "name": "python",
   "nbconvert_exporter": "python",
   "pygments_lexer": "ipython3",
   "version": "3.10.7"
  }
 },
 "nbformat": 4,
 "nbformat_minor": 5
}
