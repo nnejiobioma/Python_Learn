{
 "cells": [
  {
   "cell_type": "markdown",
   "id": "8d28a9b8",
   "metadata": {},
   "source": [
    "# File creation"
   ]
  },
  {
   "cell_type": "code",
   "execution_count": 2,
   "id": "1e2d3bb0",
   "metadata": {},
   "outputs": [
    {
     "name": "stdout",
     "output_type": "stream",
     "text": [
      "File created successfully\n"
     ]
    }
   ],
   "source": [
    "#syntax for creating a file\n",
    "#  file name = open(\"name of the file\",\"permission\") # open() with two argument is used to create file\n",
    "\n",
    "s = \" This is my file handling program\" # item to be stored in the file\n",
    "file = open(\"demo1.txt\",\"w\") # creating the file\n",
    "file.write(s)# write the item (s) in the file demo1.txt created\n",
    "print(\"File created successfully\")\n",
    "file.close()# close method used in closing the file(Important that files are closed)"
   ]
  },
  {
   "cell_type": "code",
   "execution_count": 3,
   "id": "340a2c99",
   "metadata": {},
   "outputs": [
    {
     "name": "stdout",
     "output_type": "stream",
     "text": [
      "myFile creeated successfully\n"
     ]
    }
   ],
   "source": [
    "z = \" This is another test file to be created\"\n",
    "myFile = open(\"test1.txt\",\"w\")\n",
    "myFile.write(z)\n",
    "print(\"myFile creeated successfully\")\n",
    "myFile.close()"
   ]
  },
  {
   "cell_type": "markdown",
   "id": "18583406",
   "metadata": {},
   "source": [
    "# Reading a file"
   ]
  },
  {
   "cell_type": "code",
   "execution_count": 4,
   "id": "e6f36dfa",
   "metadata": {},
   "outputs": [
    {
     "name": "stdout",
     "output_type": "stream",
     "text": [
      " This is my file handling program\n"
     ]
    }
   ],
   "source": [
    "# Reading a file requires using the open method with a read permision then you\n",
    "# store the read file in a variable with the command variable name.read(). after that printout stored varriable\n",
    "\n",
    "file = open(\"demo1.txt\",\"r\")\n",
    "filecontent = file.read()\n",
    "print(filecontent)"
   ]
  },
  {
   "cell_type": "code",
   "execution_count": 5,
   "id": "86fee743",
   "metadata": {},
   "outputs": [
    {
     "name": "stdout",
     "output_type": "stream",
     "text": [
      " This is another test file to be created\n"
     ]
    }
   ],
   "source": [
    "myFile = open(\"test1.txt\",\"r\")\n",
    "myFileContent = myFile.read()\n",
    "print(myFileContent)"
   ]
  },
  {
   "cell_type": "markdown",
   "id": "5ac4728c",
   "metadata": {},
   "source": [
    "# Store list into file"
   ]
  },
  {
   "cell_type": "code",
   "execution_count": 7,
   "id": "15072d0b",
   "metadata": {},
   "outputs": [
    {
     "name": "stdout",
     "output_type": "stream",
     "text": [
      "list written\n"
     ]
    }
   ],
   "source": [
    "l1 = [\"cat\",\"dog\",\"goat\",\"sheep\"]\n",
    "myList = open(\"list1.txt\",\"w\")\n",
    "myList.writelines(l1)\n",
    "print(\"list written\")\n",
    "myList.close()"
   ]
  },
  {
   "cell_type": "code",
   "execution_count": 10,
   "id": "d122a416",
   "metadata": {},
   "outputs": [
    {
     "name": "stdout",
     "output_type": "stream",
     "text": [
      "['catdoggoatsheep']\n"
     ]
    }
   ],
   "source": [
    "# Reading a list\n",
    "myList = open(\"list1.txt\",\"r\")\n",
    "myListContent = myList.readlines()\n",
    "print(myListContent)"
   ]
  },
  {
   "cell_type": "markdown",
   "id": "52379f90",
   "metadata": {},
   "source": [
    "# Appending value into file"
   ]
  },
  {
   "cell_type": "code",
   "execution_count": 12,
   "id": "e94e7dbb",
   "metadata": {},
   "outputs": [
    {
     "name": "stdout",
     "output_type": "stream",
     "text": [
      "More content added\n"
     ]
    }
   ],
   "source": [
    "# This is to add to execisting file\n",
    "\n",
    "s = \"/n This is added item\"\n",
    "file = open(\"demo1.txt\",\"a\")\n",
    "file.write(s)\n",
    "print(\"More content added\")\n",
    "file.close()"
   ]
  },
  {
   "cell_type": "code",
   "execution_count": 13,
   "id": "c9beb9ce",
   "metadata": {},
   "outputs": [
    {
     "name": "stdout",
     "output_type": "stream",
     "text": [
      " This is my file handling programThis is added item /n/n This is added item\n"
     ]
    }
   ],
   "source": [
    "file = open(\"demo1.txt\",\"r\")\n",
    "addedContent = file.read()\n",
    "print(addedContent)\n"
   ]
  },
  {
   "cell_type": "code",
   "execution_count": null,
   "id": "fdacf072",
   "metadata": {},
   "outputs": [],
   "source": []
  },
  {
   "cell_type": "code",
   "execution_count": null,
   "id": "079d92cc",
   "metadata": {},
   "outputs": [],
   "source": []
  },
  {
   "cell_type": "code",
   "execution_count": null,
   "id": "9963813b",
   "metadata": {},
   "outputs": [],
   "source": []
  },
  {
   "cell_type": "code",
   "execution_count": null,
   "id": "840e786d",
   "metadata": {},
   "outputs": [],
   "source": []
  }
 ],
 "metadata": {
  "kernelspec": {
   "display_name": "Python 3 (ipykernel)",
   "language": "python",
   "name": "python3"
  },
  "language_info": {
   "codemirror_mode": {
    "name": "ipython",
    "version": 3
   },
   "file_extension": ".py",
   "mimetype": "text/x-python",
   "name": "python",
   "nbconvert_exporter": "python",
   "pygments_lexer": "ipython3",
   "version": "3.10.7"
  }
 },
 "nbformat": 4,
 "nbformat_minor": 5
}
