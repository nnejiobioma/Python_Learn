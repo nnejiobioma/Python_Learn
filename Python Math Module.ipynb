{
 "cells": [
  {
   "cell_type": "markdown",
   "id": "bfaa604d",
   "metadata": {},
   "source": [
    "# Import math"
   ]
  },
  {
   "cell_type": "code",
   "execution_count": null,
   "id": "9157a020",
   "metadata": {},
   "outputs": [],
   "source": [
    "# import math\n",
    "\n",
    "#from math import functionMethod"
   ]
  },
  {
   "cell_type": "markdown",
   "id": "4016ba39",
   "metadata": {},
   "source": [
    "# Factorial"
   ]
  },
  {
   "cell_type": "code",
   "execution_count": 1,
   "id": "80ca9bc3",
   "metadata": {},
   "outputs": [
    {
     "name": "stdout",
     "output_type": "stream",
     "text": [
      "2432902008176640000\n",
      "3628800\n"
     ]
    }
   ],
   "source": [
    "import math\n",
    "\n",
    "print(math.factorial(20))\n",
    "print(math.factorial(10))"
   ]
  },
  {
   "cell_type": "markdown",
   "id": "da157a41",
   "metadata": {},
   "source": [
    "# Ceil"
   ]
  },
  {
   "cell_type": "code",
   "execution_count": 3,
   "id": "3860aaaf",
   "metadata": {},
   "outputs": [
    {
     "name": "stdout",
     "output_type": "stream",
     "text": [
      "3\n",
      "11\n"
     ]
    }
   ],
   "source": [
    "from math import ceil\n",
    "print(math.ceil(2.1))\n",
    "print(math.ceil(10.4))"
   ]
  },
  {
   "cell_type": "markdown",
   "id": "67d55efc",
   "metadata": {},
   "source": [
    "# Floor"
   ]
  },
  {
   "cell_type": "code",
   "execution_count": 4,
   "id": "680a8383",
   "metadata": {},
   "outputs": [
    {
     "name": "stdout",
     "output_type": "stream",
     "text": [
      "0\n",
      "20\n"
     ]
    }
   ],
   "source": [
    "import math\n",
    "\n",
    "print(math.floor(0.6))\n",
    "print(math.floor(20.5))"
   ]
  },
  {
   "cell_type": "markdown",
   "id": "d974a46e",
   "metadata": {},
   "source": [
    "# Sqrt()"
   ]
  },
  {
   "cell_type": "code",
   "execution_count": 6,
   "id": "0c1c6988",
   "metadata": {},
   "outputs": [
    {
     "name": "stdout",
     "output_type": "stream",
     "text": [
      "4.47213595499958\n",
      "3.1622776601683795\n"
     ]
    }
   ],
   "source": [
    "import math\n",
    "\n",
    "print(math.sqrt(20))\n",
    "print(math.sqrt(10))"
   ]
  },
  {
   "cell_type": "markdown",
   "id": "280bdde7",
   "metadata": {},
   "source": [
    "# degree"
   ]
  },
  {
   "cell_type": "code",
   "execution_count": 8,
   "id": "a2f31e01",
   "metadata": {},
   "outputs": [
    {
     "name": "stdout",
     "output_type": "stream",
     "text": [
      "1145.9155902616465\n"
     ]
    }
   ],
   "source": [
    "import math\n",
    "\n",
    "print(math.degrees(20))"
   ]
  },
  {
   "cell_type": "code",
   "execution_count": null,
   "id": "1ed515e4",
   "metadata": {},
   "outputs": [],
   "source": []
  }
 ],
 "metadata": {
  "kernelspec": {
   "display_name": "Python 3 (ipykernel)",
   "language": "python",
   "name": "python3"
  },
  "language_info": {
   "codemirror_mode": {
    "name": "ipython",
    "version": 3
   },
   "file_extension": ".py",
   "mimetype": "text/x-python",
   "name": "python",
   "nbconvert_exporter": "python",
   "pygments_lexer": "ipython3",
   "version": "3.10.7"
  }
 },
 "nbformat": 4,
 "nbformat_minor": 5
}
