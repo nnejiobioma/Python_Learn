{
 "cells": [
  {
   "cell_type": "markdown",
   "id": "07a46ff6",
   "metadata": {},
   "source": [
    "# Creating a turple"
   ]
  },
  {
   "cell_type": "code",
   "execution_count": 1,
   "id": "e3cd8476",
   "metadata": {},
   "outputs": [
    {
     "name": "stdout",
     "output_type": "stream",
     "text": [
      "(1, 2, 3, 4, 5, 'orange', 'Apple', 'Sword')\n"
     ]
    }
   ],
   "source": [
    "# Creating a turple\n",
    "t1 = (1,2,3,4,5,\"orange\",\"Apple\",\"Sword\")\n",
    "print(t1)"
   ]
  },
  {
   "cell_type": "markdown",
   "id": "ddee8507",
   "metadata": {},
   "source": [
    "# Lenth of a turple\n"
   ]
  },
  {
   "cell_type": "code",
   "execution_count": 3,
   "id": "67a988e8",
   "metadata": {},
   "outputs": [
    {
     "name": "stdout",
     "output_type": "stream",
     "text": [
      "Size of turple :  13\n"
     ]
    }
   ],
   "source": [
    "#getting to know the lenght of a turple\n",
    "\n",
    "t2 = (1,2,3,4,4,5,5,6,6,6,4,5,7)\n",
    "print(\"Size of turple : \", len(t2))"
   ]
  },
  {
   "cell_type": "markdown",
   "id": "d539c19b",
   "metadata": {},
   "source": [
    "# Accessing/Slicing turple"
   ]
  },
  {
   "cell_type": "code",
   "execution_count": 5,
   "id": "f041ce5e",
   "metadata": {},
   "outputs": [
    {
     "name": "stdout",
     "output_type": "stream",
     "text": [
      "Current turple\n",
      "First Index of a number :  2\n"
     ]
    }
   ],
   "source": [
    "# Printing the first index of a turple\n",
    "t1 = (1,2,3,4,5,\"orange\",\"Apple\",\"Sword\")\n",
    "print(\"Current turple\")\n",
    "print(\"First Index of a number : \",t1[1])\n"
   ]
  },
  {
   "cell_type": "code",
   "execution_count": 6,
   "id": "0f39821b",
   "metadata": {},
   "outputs": [
    {
     "name": "stdout",
     "output_type": "stream",
     "text": [
      "Current turple\n",
      "Index between 1 to 6 :  (2, 3, 4, 5, 'orange')\n"
     ]
    }
   ],
   "source": [
    "# Accesssing the index between 1 to 6\n",
    "t1 = (1,2,3,4,5,\"orange\",\"Apple\",\"Sword\")\n",
    "print(\"Current turple\")\n",
    "\n",
    "print(\"Index between 1 to 6 : \",t1[1:6])"
   ]
  },
  {
   "cell_type": "code",
   "execution_count": 9,
   "id": "435ed30c",
   "metadata": {},
   "outputs": [
    {
     "name": "stdout",
     "output_type": "stream",
     "text": [
      "current turple:  (1, 2, 3, 4, 5, 'orange', 'Apple', 'Sword')\n",
      "Last value of a turple :  Sword\n"
     ]
    }
   ],
   "source": [
    "#Accessing the last value of a turple\n",
    "t1 = (1,2,3,4,5,\"orange\",\"Apple\",\"Sword\")\n",
    "print(\"current turple: \",t1)\n",
    "\n",
    "print(\"Last value of a turple : \",t1[-1])"
   ]
  },
  {
   "cell_type": "code",
   "execution_count": 7,
   "id": "32d27fd2",
   "metadata": {},
   "outputs": [
    {
     "name": "stdout",
     "output_type": "stream",
     "text": [
      "current turple : \n",
      "Current turple :  (1, 2, 3, 4, 5, 'orange')\n"
     ]
    }
   ],
   "source": [
    "#Accessing the first 6 index of a turple\n",
    "t1 = (1,2,3,4,5,\"orange\",\"Apple\",\"Sword\")\n",
    "print(\"current turple : \")\n",
    "print(\"Current turple : \",t1[:6])"
   ]
  },
  {
   "cell_type": "markdown",
   "id": "77b5a183",
   "metadata": {},
   "source": [
    "# Converting turple into a list"
   ]
  },
  {
   "cell_type": "code",
   "execution_count": 10,
   "id": "8571aa90",
   "metadata": {},
   "outputs": [
    {
     "name": "stdout",
     "output_type": "stream",
     "text": [
      "Current list :  (1, 2, 3, 4, 5, 'orange', 'Apple', 'Sword')\n",
      "[1, 2, 3, 4, 5, 'orange', 'Apple', 'Sword']\n"
     ]
    }
   ],
   "source": [
    "t1 = (1,2,3,4,5,\"orange\",\"Apple\",\"Sword\")\n",
    "print(\"Current list : \",t1)\n",
    "\n",
    "l1 = list(t1)\n",
    "print(l1)"
   ]
  },
  {
   "cell_type": "markdown",
   "id": "92c13c74",
   "metadata": {},
   "source": [
    "# Turple Constructor"
   ]
  },
  {
   "cell_type": "code",
   "execution_count": 11,
   "id": "ba1f9e0f",
   "metadata": {},
   "outputs": [
    {
     "name": "stdout",
     "output_type": "stream",
     "text": [
      "(1, 2, 3, 4, 5, 'orange', 'Apple', 'Sword')\n"
     ]
    }
   ],
   "source": [
    "t3 = ((1,2,3,4,5,\"orange\",\"Apple\",\"Sword\"))\n",
    "print(t3)"
   ]
  },
  {
   "cell_type": "markdown",
   "id": "837fbd2f",
   "metadata": {},
   "source": [
    "# Adding Item into a tuple (after convertion to list)"
   ]
  },
  {
   "cell_type": "code",
   "execution_count": 26,
   "id": "a86198b8",
   "metadata": {},
   "outputs": [
    {
     "name": "stdout",
     "output_type": "stream",
     "text": [
      "Current List :  ('man', 'woman', 'girl', 'boy')\n",
      "<class 'tuple'>\n",
      "['man', 'woman', 'girl', 'boy']\n",
      "<class 'list'>\n",
      "Sand added to list :  ['man', 'woman', 'sand', 'boy']\n",
      "New tuple :  ['man', 'woman', 'sand', 'boy']\n",
      "<class 'tuple'>\n"
     ]
    }
   ],
   "source": [
    "# Create a turple\n",
    "t3 = (\"man\",\"woman\",\"girl\",\"boy\")\n",
    "print(\"Current List : \",t3)\n",
    "print(type(t3)) #Class type\n",
    "\n",
    "#convert turple to list\n",
    "a = list(t3)\n",
    "print(a)\n",
    "print(type(a))# Class type\n",
    "\n",
    "#Add item into list\n",
    "a[2] = \"sand\"\n",
    "print(\"Sand added to list : \",a)\n",
    "\n",
    "#Convert list back to turple\n",
    "z = tuple(a)\n",
    "print(\"New tuple : \",a)\n",
    "print(type(z))"
   ]
  },
  {
   "cell_type": "markdown",
   "id": "1493d719",
   "metadata": {},
   "source": [
    "# For and while loop with tuple"
   ]
  },
  {
   "cell_type": "code",
   "execution_count": 27,
   "id": "6d6d46e1",
   "metadata": {},
   "outputs": [
    {
     "name": "stdout",
     "output_type": "stream",
     "text": [
      "mango\n",
      "Orange\n",
      "pawpaw\n",
      "pineaple\n"
     ]
    }
   ],
   "source": [
    "# for loop\n",
    "t4 = (\"mango\",\"Orange\",\"pawpaw\",\"pineaple\")\n",
    "\n",
    "for i in t4:\n",
    "    print(i)"
   ]
  },
  {
   "cell_type": "code",
   "execution_count": 29,
   "id": "02b26759",
   "metadata": {},
   "outputs": [
    {
     "name": "stdout",
     "output_type": "stream",
     "text": [
      "mango\n",
      "Orange\n",
      "pawpaw\n",
      "pineaple\n",
      "loop ends\n"
     ]
    }
   ],
   "source": [
    "#while loop\n",
    "t4 = (\"mango\",\"Orange\",\"pawpaw\",\"pineaple\")\n",
    "i = 0\n",
    "\n",
    "while i < len(t4):\n",
    "    print(t4[i])\n",
    "    i = i+1\n",
    "else:\n",
    "    print(\"loop ends\")"
   ]
  },
  {
   "cell_type": "markdown",
   "id": "98fe0e67",
   "metadata": {},
   "source": [
    "# How to compare tuple"
   ]
  },
  {
   "cell_type": "code",
   "execution_count": 31,
   "id": "fc4c537c",
   "metadata": {},
   "outputs": [
    {
     "name": "stdout",
     "output_type": "stream",
     "text": [
      "False\n",
      "False\n",
      "True\n"
     ]
    }
   ],
   "source": [
    "tup = (1,2,3,4)\n",
    "tup1 = (1,2,3,5)\n",
    "\n",
    "#tup is not equal to tup1\n",
    "print(tup == tup1)\n",
    "\n",
    "#tup greater than tup1\n",
    "print(tup > tup1)\n",
    "\n",
    "#tup is less than tup1\n",
    "print(tup < tup1)\n"
   ]
  },
  {
   "cell_type": "code",
   "execution_count": null,
   "id": "e9a32b5f",
   "metadata": {},
   "outputs": [],
   "source": []
  },
  {
   "cell_type": "code",
   "execution_count": null,
   "id": "27c3923d",
   "metadata": {},
   "outputs": [],
   "source": []
  },
  {
   "cell_type": "code",
   "execution_count": null,
   "id": "7f1ad9c0",
   "metadata": {},
   "outputs": [],
   "source": []
  }
 ],
 "metadata": {
  "kernelspec": {
   "display_name": "Python 3 (ipykernel)",
   "language": "python",
   "name": "python3"
  },
  "language_info": {
   "codemirror_mode": {
    "name": "ipython",
    "version": 3
   },
   "file_extension": ".py",
   "mimetype": "text/x-python",
   "name": "python",
   "nbconvert_exporter": "python",
   "pygments_lexer": "ipython3",
   "version": "3.10.7"
  }
 },
 "nbformat": 4,
 "nbformat_minor": 5
}
